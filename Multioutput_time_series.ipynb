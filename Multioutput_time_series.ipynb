{
  "nbformat": 4,
  "nbformat_minor": 0,
  "metadata": {
    "colab": {
      "name": "Try just 3 flow .ipynb",
      "provenance": [],
      "authorship_tag": "ABX9TyONencamrZowfCWHTyhZC5P",
      "include_colab_link": true
    },
    "kernelspec": {
      "display_name": "Python 3",
      "name": "python3"
    },
    "language_info": {
      "name": "python"
    },
    "accelerator": "GPU"
  },
  "cells": [
    {
      "cell_type": "markdown",
      "metadata": {
        "id": "view-in-github",
        "colab_type": "text"
      },
      "source": [
        "<a href=\"https://colab.research.google.com/github/FarahBouattour/knowWhatToEat/blob/main/Multioutput_time_series.ipynb\" target=\"_parent\"><img src=\"https://colab.research.google.com/assets/colab-badge.svg\" alt=\"Open In Colab\"/></a>"
      ]
    },
    {
      "cell_type": "code",
      "metadata": {
        "colab": {
          "base_uri": "https://localhost:8080/"
        },
        "id": "mJepqKiS6KrJ",
        "outputId": "5c3e392a-f651-44e7-9177-0573f6a2dee0"
      },
      "source": [
        "import tensorflow as tf\n",
        "import numpy as np\n",
        "import matplotlib.pyplot as plt\n",
        "import pandas as pd\n",
        "import seaborn as sns\n",
        "print(tf.__version__)"
      ],
      "execution_count": 1,
      "outputs": [
        {
          "output_type": "stream",
          "text": [
            "2.5.0\n"
          ],
          "name": "stdout"
        }
      ]
    },
    {
      "cell_type": "code",
      "metadata": {
        "colab": {
          "base_uri": "https://localhost:8080/"
        },
        "id": "NEjXGvus51_K",
        "outputId": "bf072c35-464b-446d-9e63-40129d971a67"
      },
      "source": [
        "from sklearn.preprocessing import MinMaxScaler\n",
        "\n",
        "d21 = pd.read_csv('test_data_pca_dt_covid_fi.csv')\n",
        "d20 = pd.read_csv('data_pca_dt_covid_fi.csv')\n",
        "# 2019 - 2020\n",
        "d20 = d20.iloc[1461:,:]\n",
        "d21_train = d21.iloc[:100,:]\n",
        "d21_test = d21.iloc[100:,:]\n",
        "df = pd.concat([d20,d21_train], ignore_index=True)\n",
        "\n",
        "#Separate dates for future plotting\n",
        "train_dates = pd.to_datetime(df['Date'])\n",
        "\n",
        "#Variables for training \n",
        "cols = list(df)[2:5]\n",
        "df_for_training = df[cols].astype(float)\n",
        "\n",
        "training_data = df_for_training.to_numpy()\n",
        "\n",
        "\n",
        "trainX = []\n",
        "trainY = []\n",
        "\n",
        "n_future = 1   # Number of days we want to predict into the future\n",
        "window_size = 14    # Number of past days we want to use to predict the future\n",
        "\n",
        "for i in range(window_size, len(df_for_training) - n_future +1):\n",
        "    trainX.append(training_data[i - window_size:i, :df_for_training.shape[1]])\n",
        "    trainY.append(training_data[i + n_future - 1:i + n_future, :4])\n",
        "\n",
        "\n",
        "trainX, trainY = np.array(trainX), np.array(trainY)\n",
        "trainY = np.squeeze(trainY)\n",
        "print('trainX shape == {}.'.format(trainX.shape))\n",
        "print('trainY shape == {}.'.format(trainY.shape))\n"
      ],
      "execution_count": 129,
      "outputs": [
        {
          "output_type": "stream",
          "text": [
            "trainX shape == (817, 14, 3).\n",
            "trainY shape == (817, 3).\n"
          ],
          "name": "stdout"
        }
      ]
    },
    {
      "cell_type": "code",
      "metadata": {
        "colab": {
          "base_uri": "https://localhost:8080/"
        },
        "id": "rBIJEAn56MW7",
        "outputId": "fe8d3825-5673-453f-f3ed-29e3fed6e347"
      },
      "source": [
        "model = tf.keras.models.Sequential([\n",
        "  tf.keras.layers.Conv1D(filters=16, kernel_size=5, strides=1, \n",
        "                         padding=\"causal\", \n",
        "                         activation=\"relu\", \n",
        "                         input_shape=(trainX.shape[1], trainX.shape[2])),\n",
        "  tf.keras.layers.LSTM(16, return_sequences=True),\n",
        "  tf.keras.layers.SimpleRNN(16, return_sequences=False),\n",
        "  tf.keras.layers.Dense(60, activation=\"relu\"),\n",
        "  tf.keras.layers.Dropout(0.2),\n",
        "  tf.keras.layers.Dense(30, activation=\"relu\"),\n",
        "  tf.keras.layers.Dense(trainY.shape[1]),\n",
        "  tf.keras.layers.Lambda(lambda x: x * 100)\n",
        "])\n",
        "\n",
        "\n",
        "lr_schedule = tf.keras.callbacks.LearningRateScheduler(\n",
        "    lambda epoch: 1e-8 * 10**(epoch / 20))\n",
        "optimizer = tf.keras.optimizers.SGD(learning_rate=1e-4, momentum=0.9)\n",
        "model.compile(loss=tf.keras.losses.Huber(),\n",
        "              optimizer=optimizer,\n",
        "              metrics=[\"mae\", \"mape\"])\n",
        "\n",
        "history = model.fit(trainX, trainY, epochs=55, batch_size=32,\n",
        "                    validation_split=0.4, verbose=1,\n",
        "                    callbacks=[lr_schedule])"
      ],
      "execution_count": 130,
      "outputs": [
        {
          "output_type": "stream",
          "text": [
            "Epoch 1/55\n",
            "16/16 [==============================] - 3s 55ms/step - loss: 69.5554 - mae: 70.0544 - mape: 84.1345 - val_loss: 43.5974 - val_mae: 44.0961 - val_mape: 66.8924\n",
            "Epoch 2/55\n",
            "16/16 [==============================] - 0s 21ms/step - loss: 69.5753 - mae: 70.0749 - mape: 80.1696 - val_loss: 43.5526 - val_mae: 44.0514 - val_mape: 66.8619\n",
            "Epoch 3/55\n",
            "16/16 [==============================] - 0s 21ms/step - loss: 70.2300 - mae: 70.7294 - mape: 84.0169 - val_loss: 43.5054 - val_mae: 44.0047 - val_mape: 66.8305\n",
            "Epoch 4/55\n",
            "16/16 [==============================] - 0s 21ms/step - loss: 69.1041 - mae: 69.6037 - mape: 82.2310 - val_loss: 43.4357 - val_mae: 43.9354 - val_mape: 66.7835\n",
            "Epoch 5/55\n",
            "16/16 [==============================] - 0s 22ms/step - loss: 69.0341 - mae: 69.5340 - mape: 78.8174 - val_loss: 43.3102 - val_mae: 43.8095 - val_mape: 66.6558\n",
            "Epoch 6/55\n",
            "16/16 [==============================] - 0s 21ms/step - loss: 69.4236 - mae: 69.9235 - mape: 80.7903 - val_loss: 43.0782 - val_mae: 43.5772 - val_mape: 66.4069\n",
            "Epoch 7/55\n",
            "16/16 [==============================] - 0s 22ms/step - loss: 69.0731 - mae: 69.5724 - mape: 78.3407 - val_loss: 42.7812 - val_mae: 43.2806 - val_mape: 66.1021\n",
            "Epoch 8/55\n",
            "16/16 [==============================] - 0s 20ms/step - loss: 68.3677 - mae: 68.8677 - mape: 78.1569 - val_loss: 42.4582 - val_mae: 42.9576 - val_mape: 65.7108\n",
            "Epoch 9/55\n",
            "16/16 [==============================] - 0s 21ms/step - loss: 67.5014 - mae: 68.0009 - mape: 78.5307 - val_loss: 42.1938 - val_mae: 42.6933 - val_mape: 65.3978\n",
            "Epoch 10/55\n",
            "16/16 [==============================] - 0s 22ms/step - loss: 67.8913 - mae: 68.3906 - mape: 82.1303 - val_loss: 41.9688 - val_mae: 42.4677 - val_mape: 65.0708\n",
            "Epoch 11/55\n",
            "16/16 [==============================] - 0s 20ms/step - loss: 67.4242 - mae: 67.9242 - mape: 78.8809 - val_loss: 41.7190 - val_mae: 42.2177 - val_mape: 64.6930\n",
            "Epoch 12/55\n",
            "16/16 [==============================] - 0s 20ms/step - loss: 65.8160 - mae: 66.3153 - mape: 77.0106 - val_loss: 41.4215 - val_mae: 41.9208 - val_mape: 64.2656\n",
            "Epoch 13/55\n",
            "16/16 [==============================] - 0s 22ms/step - loss: 67.8785 - mae: 68.3780 - mape: 82.0760 - val_loss: 41.0950 - val_mae: 41.5942 - val_mape: 63.8013\n",
            "Epoch 14/55\n",
            "16/16 [==============================] - 0s 21ms/step - loss: 66.9335 - mae: 67.4331 - mape: 77.8217 - val_loss: 40.7449 - val_mae: 41.2443 - val_mape: 63.3204\n",
            "Epoch 15/55\n",
            "16/16 [==============================] - 0s 21ms/step - loss: 65.6208 - mae: 66.1206 - mape: 75.8764 - val_loss: 40.2591 - val_mae: 40.7580 - val_mape: 62.6097\n",
            "Epoch 16/55\n",
            "16/16 [==============================] - 0s 21ms/step - loss: 65.7153 - mae: 66.2147 - mape: 77.4946 - val_loss: 39.9002 - val_mae: 40.3989 - val_mape: 62.0479\n",
            "Epoch 17/55\n",
            "16/16 [==============================] - 0s 20ms/step - loss: 65.1201 - mae: 65.6192 - mape: 75.3534 - val_loss: 39.4938 - val_mae: 39.9929 - val_mape: 61.4461\n",
            "Epoch 18/55\n",
            "16/16 [==============================] - 0s 21ms/step - loss: 63.6781 - mae: 64.1773 - mape: 75.2617 - val_loss: 39.0810 - val_mae: 39.5805 - val_mape: 60.8044\n",
            "Epoch 19/55\n",
            "16/16 [==============================] - 0s 21ms/step - loss: 64.2606 - mae: 64.7595 - mape: 79.6712 - val_loss: 38.6227 - val_mae: 39.1223 - val_mape: 60.0868\n",
            "Epoch 20/55\n",
            "16/16 [==============================] - 0s 22ms/step - loss: 64.1342 - mae: 64.6339 - mape: 77.3643 - val_loss: 38.1407 - val_mae: 38.6397 - val_mape: 59.2823\n",
            "Epoch 21/55\n",
            "16/16 [==============================] - 0s 21ms/step - loss: 62.5788 - mae: 63.0780 - mape: 75.6371 - val_loss: 37.7107 - val_mae: 38.2089 - val_mape: 58.5579\n",
            "Epoch 22/55\n",
            "16/16 [==============================] - 0s 22ms/step - loss: 62.1734 - mae: 62.6722 - mape: 76.1169 - val_loss: 37.2494 - val_mae: 37.7462 - val_mape: 57.7455\n",
            "Epoch 23/55\n",
            "16/16 [==============================] - 0s 22ms/step - loss: 61.1676 - mae: 61.6673 - mape: 75.2264 - val_loss: 36.6952 - val_mae: 37.1934 - val_mape: 56.8105\n",
            "Epoch 24/55\n",
            "16/16 [==============================] - 0s 23ms/step - loss: 61.0140 - mae: 61.5131 - mape: 74.4843 - val_loss: 36.0148 - val_mae: 36.5138 - val_mape: 55.6776\n",
            "Epoch 25/55\n",
            "16/16 [==============================] - 0s 21ms/step - loss: 59.7265 - mae: 60.2250 - mape: 72.0880 - val_loss: 35.3251 - val_mae: 35.8231 - val_mape: 54.5200\n",
            "Epoch 26/55\n",
            "16/16 [==============================] - 0s 21ms/step - loss: 57.8567 - mae: 58.3560 - mape: 72.7889 - val_loss: 34.4484 - val_mae: 34.9469 - val_mape: 53.1003\n",
            "Epoch 27/55\n",
            "16/16 [==============================] - 0s 21ms/step - loss: 58.1548 - mae: 58.6539 - mape: 71.5664 - val_loss: 33.5845 - val_mae: 34.0830 - val_mape: 51.7083\n",
            "Epoch 28/55\n",
            "16/16 [==============================] - 0s 21ms/step - loss: 56.6230 - mae: 57.1214 - mape: 70.6431 - val_loss: 32.5785 - val_mae: 33.0754 - val_mape: 50.0240\n",
            "Epoch 29/55\n",
            "16/16 [==============================] - 0s 21ms/step - loss: 55.2031 - mae: 55.7028 - mape: 70.7128 - val_loss: 31.6253 - val_mae: 32.1237 - val_mape: 48.5352\n",
            "Epoch 30/55\n",
            "16/16 [==============================] - 0s 22ms/step - loss: 54.2018 - mae: 54.7011 - mape: 68.6025 - val_loss: 30.8159 - val_mae: 31.3125 - val_mape: 47.3249\n",
            "Epoch 31/55\n",
            "16/16 [==============================] - 0s 22ms/step - loss: 52.3506 - mae: 52.8500 - mape: 68.8347 - val_loss: 30.2144 - val_mae: 30.7108 - val_mape: 46.5120\n",
            "Epoch 32/55\n",
            "16/16 [==============================] - 0s 21ms/step - loss: 50.0561 - mae: 50.5546 - mape: 68.4186 - val_loss: 29.6963 - val_mae: 30.1926 - val_mape: 45.8655\n",
            "Epoch 33/55\n",
            "16/16 [==============================] - 0s 21ms/step - loss: 49.2422 - mae: 49.7396 - mape: 65.4571 - val_loss: 29.3008 - val_mae: 29.7972 - val_mape: 45.4946\n",
            "Epoch 34/55\n",
            "16/16 [==============================] - 0s 21ms/step - loss: 46.7221 - mae: 47.2198 - mape: 65.1451 - val_loss: 29.0085 - val_mae: 29.5055 - val_mape: 45.3746\n",
            "Epoch 35/55\n",
            "16/16 [==============================] - 0s 22ms/step - loss: 44.0704 - mae: 44.5674 - mape: 62.5234 - val_loss: 28.9837 - val_mae: 29.4799 - val_mape: 45.7408\n",
            "Epoch 36/55\n",
            "16/16 [==============================] - 0s 23ms/step - loss: 42.1452 - mae: 42.6442 - mape: 64.3309 - val_loss: 28.8985 - val_mae: 29.3928 - val_mape: 46.2248\n",
            "Epoch 37/55\n",
            "16/16 [==============================] - 0s 21ms/step - loss: 39.9959 - mae: 40.4929 - mape: 62.8778 - val_loss: 29.0830 - val_mae: 29.5791 - val_mape: 47.3279\n",
            "Epoch 38/55\n",
            "16/16 [==============================] - 0s 22ms/step - loss: 38.1053 - mae: 38.6043 - mape: 60.1739 - val_loss: 29.5145 - val_mae: 30.0113 - val_mape: 48.7656\n",
            "Epoch 39/55\n",
            "16/16 [==============================] - 0s 21ms/step - loss: 36.2221 - mae: 36.7200 - mape: 60.8677 - val_loss: 30.1198 - val_mae: 30.6154 - val_mape: 50.5794\n",
            "Epoch 40/55\n",
            "16/16 [==============================] - 0s 22ms/step - loss: 34.7751 - mae: 35.2725 - mape: 62.8160 - val_loss: 30.7153 - val_mae: 31.2132 - val_mape: 52.1917\n",
            "Epoch 41/55\n",
            "16/16 [==============================] - 0s 22ms/step - loss: 33.0939 - mae: 33.5918 - mape: 60.4599 - val_loss: 30.7329 - val_mae: 31.2297 - val_mape: 52.2746\n",
            "Epoch 42/55\n",
            "16/16 [==============================] - 0s 21ms/step - loss: 31.0919 - mae: 31.5886 - mape: 59.9572 - val_loss: 30.3665 - val_mae: 30.8639 - val_mape: 51.8169\n",
            "Epoch 43/55\n",
            "16/16 [==============================] - 0s 22ms/step - loss: 29.9148 - mae: 30.4116 - mape: 61.8359 - val_loss: 31.2435 - val_mae: 31.7412 - val_mape: 54.5895\n",
            "Epoch 44/55\n",
            "16/16 [==============================] - 0s 20ms/step - loss: 28.9406 - mae: 29.4368 - mape: 62.6323 - val_loss: 30.0415 - val_mae: 30.5392 - val_mape: 51.5012\n",
            "Epoch 45/55\n",
            "16/16 [==============================] - 0s 21ms/step - loss: 28.7843 - mae: 29.2810 - mape: 63.0210 - val_loss: 31.2193 - val_mae: 31.7154 - val_mape: 56.4489\n",
            "Epoch 46/55\n",
            "16/16 [==============================] - 0s 21ms/step - loss: 28.4490 - mae: 28.9439 - mape: 61.6956 - val_loss: 30.5979 - val_mae: 31.0937 - val_mape: 55.2290\n",
            "Epoch 47/55\n",
            "16/16 [==============================] - 0s 20ms/step - loss: 27.8986 - mae: 28.3941 - mape: 61.2964 - val_loss: 32.3526 - val_mae: 32.8493 - val_mape: 59.6100\n",
            "Epoch 48/55\n",
            "16/16 [==============================] - 0s 22ms/step - loss: 27.6342 - mae: 28.1294 - mape: 54.7486 - val_loss: 31.3237 - val_mae: 31.8213 - val_mape: 56.5809\n",
            "Epoch 49/55\n",
            "16/16 [==============================] - 0s 22ms/step - loss: 27.6707 - mae: 28.1660 - mape: 65.6260 - val_loss: 31.9214 - val_mae: 32.4181 - val_mape: 56.4233\n",
            "Epoch 50/55\n",
            "16/16 [==============================] - 0s 22ms/step - loss: 26.9687 - mae: 27.4635 - mape: 61.5617 - val_loss: 31.3758 - val_mae: 31.8718 - val_mape: 56.0689\n",
            "Epoch 51/55\n",
            "16/16 [==============================] - 0s 21ms/step - loss: 27.0252 - mae: 27.5194 - mape: 57.3553 - val_loss: 31.9315 - val_mae: 32.4291 - val_mape: 57.4959\n",
            "Epoch 52/55\n",
            "16/16 [==============================] - 0s 22ms/step - loss: 27.0889 - mae: 27.5848 - mape: 55.0998 - val_loss: 31.2770 - val_mae: 31.7757 - val_mape: 54.9600\n",
            "Epoch 53/55\n",
            "16/16 [==============================] - 0s 22ms/step - loss: 27.1756 - mae: 27.6719 - mape: 62.3764 - val_loss: 30.6546 - val_mae: 31.1504 - val_mape: 54.3656\n",
            "Epoch 54/55\n",
            "16/16 [==============================] - 0s 22ms/step - loss: 26.7643 - mae: 27.2606 - mape: 60.4746 - val_loss: 31.1418 - val_mae: 31.6386 - val_mape: 55.1389\n",
            "Epoch 55/55\n",
            "16/16 [==============================] - 0s 21ms/step - loss: 26.4043 - mae: 26.8994 - mape: 58.0696 - val_loss: 31.9223 - val_mae: 32.4186 - val_mape: 58.0927\n"
          ],
          "name": "stdout"
        }
      ]
    },
    {
      "cell_type": "code",
      "metadata": {
        "colab": {
          "base_uri": "https://localhost:8080/",
          "height": 290
        },
        "id": "aUHsxm2S65t0",
        "outputId": "ffdb4627-034a-4dab-8431-926e921e0f5a"
      },
      "source": [
        "plt.semilogx(history.history[\"lr\"], history.history[\"loss\"])\n",
        "plt.axis([1e-7, 2e-3, 10, 100])"
      ],
      "execution_count": 131,
      "outputs": [
        {
          "output_type": "execute_result",
          "data": {
            "text/plain": [
              "(1e-07, 0.002, 10.0, 100.0)"
            ]
          },
          "metadata": {
            "tags": []
          },
          "execution_count": 131
        },
        {
          "output_type": "display_data",
          "data": {
            "image/png": "[encoded data removed]",
            "text/plain": [
              "<Figure size 432x288 with 1 Axes>"
            ]
          },
          "metadata": {
            "tags": [],
            "needs_background": "light"
          }
        }
      ]
    },
    {
      "cell_type": "code",
      "metadata": {
        "colab": {
          "base_uri": "https://localhost:8080/",
          "height": 282
        },
        "id": "9J6BXVVuhf9Y",
        "outputId": "716e9686-dc5d-4fe1-a123-23c88123bedf"
      },
      "source": [
        "plt.plot(history.history['loss'], label='Training loss')\n",
        "plt.plot(history.history['val_loss'], label='Validation loss')\n",
        "plt.legend()"
      ],
      "execution_count": 132,
      "outputs": [
        {
          "output_type": "execute_result",
          "data": {
            "text/plain": [
              "<matplotlib.legend.Legend at 0x7fc1ccde9bd0>"
            ]
          },
          "metadata": {
            "tags": []
          },
          "execution_count": 132
        },
        {
          "output_type": "display_data",
          "data": {
            "image/png": "[encoded data removed]",
            "text/plain": [
              "<Figure size 432x288 with 1 Axes>"
            ]
          },
          "metadata": {
            "tags": [],
            "needs_background": "light"
          }
        }
      ]
    },
    {
      "cell_type": "code",
      "metadata": {
        "colab": {
          "base_uri": "https://localhost:8080/"
        },
        "id": "eBKFihcNppJB",
        "outputId": "defa77cb-360a-4296-ae2d-8d42fed379aa"
      },
      "source": [
        "forecast_period = d21_test.shape[0]  \n",
        "forecast_period_dates = pd.date_range(list(train_dates)[-1], periods=forecast_period, freq='1d').tolist()\n",
        "\n",
        "forecast = model.predict(trainX[-n_future:]) #(1,31,10) shape of trainX[-n_future]\n",
        "forecast"
      ],
      "execution_count": 133,
      "outputs": [
        {
          "output_type": "execute_result",
          "data": {
            "text/plain": [
              "array([[41.212048, 30.570988, 44.493332]], dtype=float32)"
            ]
          },
          "metadata": {
            "tags": []
          },
          "execution_count": 133
        }
      ]
    },
    {
      "cell_type": "code",
      "metadata": {
        "colab": {
          "base_uri": "https://localhost:8080/"
        },
        "id": "gLJuLMGQEVHM",
        "outputId": "b136a2c5-fcc6-4fa8-8aa9-853b8d6a5001"
      },
      "source": [
        "result = np.zeros((31, 3))\n",
        "#result[0] = scaler.inverse_transform(forecast)[:,:4][0]\n",
        "result[0] = [abs(int(i)) for i in forecast[:,:4][0]]\n",
        "trainX[-1][-1][:3] = trainY[-1]\n",
        "\n",
        "for i in range(30):\n",
        "  y_pred_row = forecast\n",
        "  row = list(y_pred_row[0])\n",
        "  test = np.zeros((1, window_size, 3))\n",
        "  test[0][:window_size - 1] = trainX[-1:][0][1:]\n",
        "  test[0][window_size - 1] = row\n",
        "  trainX = test\n",
        "  forecast = model.predict(trainX)\n",
        "  #print(forecast)\n",
        "  #result[i] = scaler.inverse_transform(forecast)[:,:4][0]\n",
        "  result[i+1] = [abs(int(i)) for i in forecast[:,:4][0]]\n",
        "\n",
        "result"
      ],
      "execution_count": 134,
      "outputs": [
        {
          "output_type": "execute_result",
          "data": {
            "text/plain": [
              "array([[41., 30., 44.],\n",
              "       [41., 36., 56.],\n",
              "       [42., 34., 52.],\n",
              "       [33., 30., 52.],\n",
              "       [50., 50., 56.],\n",
              "       [59., 60., 55.],\n",
              "       [37., 53., 70.],\n",
              "       [39., 40., 52.],\n",
              "       [40., 71., 83.],\n",
              "       [34., 40., 49.],\n",
              "       [26., 33., 57.],\n",
              "       [35., 38., 51.],\n",
              "       [28., 32., 54.],\n",
              "       [33., 29., 45.],\n",
              "       [39., 38., 56.],\n",
              "       [33., 33., 46.],\n",
              "       [35., 34., 47.],\n",
              "       [35., 34., 50.],\n",
              "       [34., 30., 50.],\n",
              "       [41., 35., 57.],\n",
              "       [24., 31., 42.],\n",
              "       [38., 39., 53.],\n",
              "       [31., 29., 50.],\n",
              "       [41., 36., 53.],\n",
              "       [38., 35., 46.],\n",
              "       [41., 35., 52.],\n",
              "       [39., 37., 44.],\n",
              "       [40., 30., 54.],\n",
              "       [37., 49., 31.],\n",
              "       [47., 43., 48.],\n",
              "       [40., 53., 33.]])"
            ]
          },
          "metadata": {
            "tags": []
          },
          "execution_count": 134
        }
      ]
    },
    {
      "cell_type": "code",
      "metadata": {
        "colab": {
          "base_uri": "https://localhost:8080/",
          "height": 1000
        },
        "id": "aO9vDQPe7M2C",
        "outputId": "61d7f61f-a8c9-43a9-8094-f96e81a9f4ae"
      },
      "source": [
        "# Convert timestamp to date\n",
        "forecast_dates = []\n",
        "for time_i in forecast_period_dates:\n",
        "    forecast_dates.append(time_i.date())\n",
        "    \n",
        "df_forecast = pd.DataFrame({'Date':np.array(forecast_dates[:31]), \n",
        "                            'chirurgie':result[:,0],\n",
        "                            'medicale':result[:,1],\n",
        "                            'orthopedie':result[:,2]})\n",
        "                            #'flux_journalier':result.sum(axis=1)})\n",
        "df_forecast['Date']=pd.to_datetime(df_forecast['Date'])\n",
        "\n",
        "cols = list(df)[:5]\n",
        "original = df[cols]\n",
        "original['Date']=pd.to_datetime(original['Date'])\n",
        "original = original.loc[original['Date'] >= '2021-03-1']\n",
        "\n",
        "#the real data that we predict\n",
        "real = d21_test\n",
        "real = real.iloc[:31,2:5].reset_index()\n",
        "\n",
        "real.reset_index()\n",
        "results = pd.concat([df_forecast, real], axis=1)\n",
        "results"
      ],
      "execution_count": 135,
      "outputs": [
        {
          "output_type": "stream",
          "text": [
            "/usr/local/lib/python3.7/dist-packages/ipykernel_launcher.py:15: SettingWithCopyWarning: \n",
            "A value is trying to be set on a copy of a slice from a DataFrame.\n",
            "Try using .loc[row_indexer,col_indexer] = value instead\n",
            "\n",
            "See the caveats in the documentation: https://pandas.pydata.org/pandas-docs/stable/user_guide/indexing.html#returning-a-view-versus-a-copy\n",
            "  from ipykernel import kernelapp as app\n"
          ],
          "name": "stderr"
        },
        {
          "output_type": "execute_result",
          "data": {
            "text/html": [
              "<div>\n",
              "<style scoped>\n",
              "    .dataframe tbody tr th:only-of-type {\n",
              "        vertical-align: middle;\n",
              "    }\n",
              "\n",
              "    .dataframe tbody tr th {\n",
              "        vertical-align: top;\n",
              "    }\n",
              "\n",
              "    .dataframe thead th {\n",
              "        text-align: right;\n",
              "    }\n",
              "</style>\n",
              "<table border=\"1\" class=\"dataframe\">\n",
              "  <thead>\n",
              "    <tr style=\"text-align: right;\">\n",
              "      <th></th>\n",
              "      <th>Date</th>\n",
              "      <th>chirurgie</th>\n",
              "      <th>medicale</th>\n",
              "      <th>orthopedie</th>\n",
              "      <th>index</th>\n",
              "      <th>CHIRURGIE</th>\n",
              "      <th>MEDICALE</th>\n",
              "      <th>ORTHOPEDIE</th>\n",
              "    </tr>\n",
              "  </thead>\n",
              "  <tbody>\n",
              "    <tr>\n",
              "      <th>0</th>\n",
              "      <td>2021-04-10</td>\n",
              "      <td>41.0</td>\n",
              "      <td>30.0</td>\n",
              "      <td>44.0</td>\n",
              "      <td>100</td>\n",
              "      <td>27.0</td>\n",
              "      <td>39.0</td>\n",
              "      <td>87.0</td>\n",
              "    </tr>\n",
              "    <tr>\n",
              "      <th>1</th>\n",
              "      <td>2021-04-11</td>\n",
              "      <td>41.0</td>\n",
              "      <td>36.0</td>\n",
              "      <td>56.0</td>\n",
              "      <td>101</td>\n",
              "      <td>67.0</td>\n",
              "      <td>108.0</td>\n",
              "      <td>70.0</td>\n",
              "    </tr>\n",
              "    <tr>\n",
              "      <th>2</th>\n",
              "      <td>2021-04-12</td>\n",
              "      <td>42.0</td>\n",
              "      <td>34.0</td>\n",
              "      <td>52.0</td>\n",
              "      <td>102</td>\n",
              "      <td>51.0</td>\n",
              "      <td>69.0</td>\n",
              "      <td>61.0</td>\n",
              "    </tr>\n",
              "    <tr>\n",
              "      <th>3</th>\n",
              "      <td>2021-04-13</td>\n",
              "      <td>33.0</td>\n",
              "      <td>30.0</td>\n",
              "      <td>52.0</td>\n",
              "      <td>103</td>\n",
              "      <td>43.0</td>\n",
              "      <td>76.0</td>\n",
              "      <td>78.0</td>\n",
              "    </tr>\n",
              "    <tr>\n",
              "      <th>4</th>\n",
              "      <td>2021-04-14</td>\n",
              "      <td>50.0</td>\n",
              "      <td>50.0</td>\n",
              "      <td>56.0</td>\n",
              "      <td>104</td>\n",
              "      <td>40.0</td>\n",
              "      <td>87.0</td>\n",
              "      <td>77.0</td>\n",
              "    </tr>\n",
              "    <tr>\n",
              "      <th>5</th>\n",
              "      <td>2021-04-15</td>\n",
              "      <td>59.0</td>\n",
              "      <td>60.0</td>\n",
              "      <td>55.0</td>\n",
              "      <td>105</td>\n",
              "      <td>36.0</td>\n",
              "      <td>77.0</td>\n",
              "      <td>69.0</td>\n",
              "    </tr>\n",
              "    <tr>\n",
              "      <th>6</th>\n",
              "      <td>2021-04-16</td>\n",
              "      <td>37.0</td>\n",
              "      <td>53.0</td>\n",
              "      <td>70.0</td>\n",
              "      <td>106</td>\n",
              "      <td>42.0</td>\n",
              "      <td>92.0</td>\n",
              "      <td>43.0</td>\n",
              "    </tr>\n",
              "    <tr>\n",
              "      <th>7</th>\n",
              "      <td>2021-04-17</td>\n",
              "      <td>39.0</td>\n",
              "      <td>40.0</td>\n",
              "      <td>52.0</td>\n",
              "      <td>107</td>\n",
              "      <td>17.0</td>\n",
              "      <td>53.0</td>\n",
              "      <td>41.0</td>\n",
              "    </tr>\n",
              "    <tr>\n",
              "      <th>8</th>\n",
              "      <td>2021-04-18</td>\n",
              "      <td>40.0</td>\n",
              "      <td>71.0</td>\n",
              "      <td>83.0</td>\n",
              "      <td>108</td>\n",
              "      <td>46.0</td>\n",
              "      <td>88.0</td>\n",
              "      <td>60.0</td>\n",
              "    </tr>\n",
              "    <tr>\n",
              "      <th>9</th>\n",
              "      <td>2021-04-19</td>\n",
              "      <td>34.0</td>\n",
              "      <td>40.0</td>\n",
              "      <td>49.0</td>\n",
              "      <td>109</td>\n",
              "      <td>41.0</td>\n",
              "      <td>77.0</td>\n",
              "      <td>71.0</td>\n",
              "    </tr>\n",
              "    <tr>\n",
              "      <th>10</th>\n",
              "      <td>2021-04-20</td>\n",
              "      <td>26.0</td>\n",
              "      <td>33.0</td>\n",
              "      <td>57.0</td>\n",
              "      <td>110</td>\n",
              "      <td>31.0</td>\n",
              "      <td>80.0</td>\n",
              "      <td>65.0</td>\n",
              "    </tr>\n",
              "    <tr>\n",
              "      <th>11</th>\n",
              "      <td>2021-04-21</td>\n",
              "      <td>35.0</td>\n",
              "      <td>38.0</td>\n",
              "      <td>51.0</td>\n",
              "      <td>111</td>\n",
              "      <td>38.0</td>\n",
              "      <td>82.0</td>\n",
              "      <td>48.0</td>\n",
              "    </tr>\n",
              "    <tr>\n",
              "      <th>12</th>\n",
              "      <td>2021-04-22</td>\n",
              "      <td>28.0</td>\n",
              "      <td>32.0</td>\n",
              "      <td>54.0</td>\n",
              "      <td>112</td>\n",
              "      <td>31.0</td>\n",
              "      <td>79.0</td>\n",
              "      <td>59.0</td>\n",
              "    </tr>\n",
              "    <tr>\n",
              "      <th>13</th>\n",
              "      <td>2021-04-23</td>\n",
              "      <td>33.0</td>\n",
              "      <td>29.0</td>\n",
              "      <td>45.0</td>\n",
              "      <td>113</td>\n",
              "      <td>28.0</td>\n",
              "      <td>58.0</td>\n",
              "      <td>48.0</td>\n",
              "    </tr>\n",
              "    <tr>\n",
              "      <th>14</th>\n",
              "      <td>2021-04-24</td>\n",
              "      <td>39.0</td>\n",
              "      <td>38.0</td>\n",
              "      <td>56.0</td>\n",
              "      <td>114</td>\n",
              "      <td>37.0</td>\n",
              "      <td>51.0</td>\n",
              "      <td>47.0</td>\n",
              "    </tr>\n",
              "    <tr>\n",
              "      <th>15</th>\n",
              "      <td>2021-04-25</td>\n",
              "      <td>33.0</td>\n",
              "      <td>33.0</td>\n",
              "      <td>46.0</td>\n",
              "      <td>115</td>\n",
              "      <td>40.0</td>\n",
              "      <td>61.0</td>\n",
              "      <td>68.0</td>\n",
              "    </tr>\n",
              "    <tr>\n",
              "      <th>16</th>\n",
              "      <td>2021-04-26</td>\n",
              "      <td>35.0</td>\n",
              "      <td>34.0</td>\n",
              "      <td>47.0</td>\n",
              "      <td>116</td>\n",
              "      <td>34.0</td>\n",
              "      <td>43.0</td>\n",
              "      <td>49.0</td>\n",
              "    </tr>\n",
              "    <tr>\n",
              "      <th>17</th>\n",
              "      <td>2021-04-27</td>\n",
              "      <td>35.0</td>\n",
              "      <td>34.0</td>\n",
              "      <td>50.0</td>\n",
              "      <td>117</td>\n",
              "      <td>45.0</td>\n",
              "      <td>47.0</td>\n",
              "      <td>67.0</td>\n",
              "    </tr>\n",
              "    <tr>\n",
              "      <th>18</th>\n",
              "      <td>2021-04-28</td>\n",
              "      <td>34.0</td>\n",
              "      <td>30.0</td>\n",
              "      <td>50.0</td>\n",
              "      <td>118</td>\n",
              "      <td>47.0</td>\n",
              "      <td>53.0</td>\n",
              "      <td>63.0</td>\n",
              "    </tr>\n",
              "    <tr>\n",
              "      <th>19</th>\n",
              "      <td>2021-04-29</td>\n",
              "      <td>41.0</td>\n",
              "      <td>35.0</td>\n",
              "      <td>57.0</td>\n",
              "      <td>119</td>\n",
              "      <td>35.0</td>\n",
              "      <td>46.0</td>\n",
              "      <td>64.0</td>\n",
              "    </tr>\n",
              "    <tr>\n",
              "      <th>20</th>\n",
              "      <td>2021-04-30</td>\n",
              "      <td>24.0</td>\n",
              "      <td>31.0</td>\n",
              "      <td>42.0</td>\n",
              "      <td>120</td>\n",
              "      <td>22.0</td>\n",
              "      <td>30.0</td>\n",
              "      <td>66.0</td>\n",
              "    </tr>\n",
              "    <tr>\n",
              "      <th>21</th>\n",
              "      <td>2021-05-01</td>\n",
              "      <td>38.0</td>\n",
              "      <td>39.0</td>\n",
              "      <td>53.0</td>\n",
              "      <td>121</td>\n",
              "      <td>34.0</td>\n",
              "      <td>34.0</td>\n",
              "      <td>37.0</td>\n",
              "    </tr>\n",
              "    <tr>\n",
              "      <th>22</th>\n",
              "      <td>2021-05-02</td>\n",
              "      <td>31.0</td>\n",
              "      <td>29.0</td>\n",
              "      <td>50.0</td>\n",
              "      <td>122</td>\n",
              "      <td>34.0</td>\n",
              "      <td>87.0</td>\n",
              "      <td>40.0</td>\n",
              "    </tr>\n",
              "    <tr>\n",
              "      <th>23</th>\n",
              "      <td>2021-05-03</td>\n",
              "      <td>41.0</td>\n",
              "      <td>36.0</td>\n",
              "      <td>53.0</td>\n",
              "      <td>123</td>\n",
              "      <td>42.0</td>\n",
              "      <td>67.0</td>\n",
              "      <td>53.0</td>\n",
              "    </tr>\n",
              "    <tr>\n",
              "      <th>24</th>\n",
              "      <td>2021-05-04</td>\n",
              "      <td>38.0</td>\n",
              "      <td>35.0</td>\n",
              "      <td>46.0</td>\n",
              "      <td>124</td>\n",
              "      <td>51.0</td>\n",
              "      <td>54.0</td>\n",
              "      <td>49.0</td>\n",
              "    </tr>\n",
              "    <tr>\n",
              "      <th>25</th>\n",
              "      <td>2021-05-05</td>\n",
              "      <td>41.0</td>\n",
              "      <td>35.0</td>\n",
              "      <td>52.0</td>\n",
              "      <td>125</td>\n",
              "      <td>34.0</td>\n",
              "      <td>76.0</td>\n",
              "      <td>53.0</td>\n",
              "    </tr>\n",
              "    <tr>\n",
              "      <th>26</th>\n",
              "      <td>2021-05-06</td>\n",
              "      <td>39.0</td>\n",
              "      <td>37.0</td>\n",
              "      <td>44.0</td>\n",
              "      <td>126</td>\n",
              "      <td>32.0</td>\n",
              "      <td>66.0</td>\n",
              "      <td>52.0</td>\n",
              "    </tr>\n",
              "    <tr>\n",
              "      <th>27</th>\n",
              "      <td>2021-05-07</td>\n",
              "      <td>40.0</td>\n",
              "      <td>30.0</td>\n",
              "      <td>54.0</td>\n",
              "      <td>127</td>\n",
              "      <td>23.0</td>\n",
              "      <td>61.0</td>\n",
              "      <td>58.0</td>\n",
              "    </tr>\n",
              "    <tr>\n",
              "      <th>28</th>\n",
              "      <td>2021-05-08</td>\n",
              "      <td>37.0</td>\n",
              "      <td>49.0</td>\n",
              "      <td>31.0</td>\n",
              "      <td>128</td>\n",
              "      <td>30.0</td>\n",
              "      <td>54.0</td>\n",
              "      <td>27.0</td>\n",
              "    </tr>\n",
              "    <tr>\n",
              "      <th>29</th>\n",
              "      <td>2021-05-09</td>\n",
              "      <td>47.0</td>\n",
              "      <td>43.0</td>\n",
              "      <td>48.0</td>\n",
              "      <td>129</td>\n",
              "      <td>22.0</td>\n",
              "      <td>93.0</td>\n",
              "      <td>60.0</td>\n",
              "    </tr>\n",
              "    <tr>\n",
              "      <th>30</th>\n",
              "      <td>2021-05-10</td>\n",
              "      <td>40.0</td>\n",
              "      <td>53.0</td>\n",
              "      <td>33.0</td>\n",
              "      <td>130</td>\n",
              "      <td>54.0</td>\n",
              "      <td>47.0</td>\n",
              "      <td>57.0</td>\n",
              "    </tr>\n",
              "  </tbody>\n",
              "</table>\n",
              "</div>"
            ],
            "text/plain": [
              "         Date  chirurgie  medicale  ...  CHIRURGIE  MEDICALE  ORTHOPEDIE\n",
              "0  2021-04-10       41.0      30.0  ...       27.0      39.0        87.0\n",
              "1  2021-04-11       41.0      36.0  ...       67.0     108.0        70.0\n",
              "2  2021-04-12       42.0      34.0  ...       51.0      69.0        61.0\n",
              "3  2021-04-13       33.0      30.0  ...       43.0      76.0        78.0\n",
              "4  2021-04-14       50.0      50.0  ...       40.0      87.0        77.0\n",
              "5  2021-04-15       59.0      60.0  ...       36.0      77.0        69.0\n",
              "6  2021-04-16       37.0      53.0  ...       42.0      92.0        43.0\n",
              "7  2021-04-17       39.0      40.0  ...       17.0      53.0        41.0\n",
              "8  2021-04-18       40.0      71.0  ...       46.0      88.0        60.0\n",
              "9  2021-04-19       34.0      40.0  ...       41.0      77.0        71.0\n",
              "10 2021-04-20       26.0      33.0  ...       31.0      80.0        65.0\n",
              "11 2021-04-21       35.0      38.0  ...       38.0      82.0        48.0\n",
              "12 2021-04-22       28.0      32.0  ...       31.0      79.0        59.0\n",
              "13 2021-04-23       33.0      29.0  ...       28.0      58.0        48.0\n",
              "14 2021-04-24       39.0      38.0  ...       37.0      51.0        47.0\n",
              "15 2021-04-25       33.0      33.0  ...       40.0      61.0        68.0\n",
              "16 2021-04-26       35.0      34.0  ...       34.0      43.0        49.0\n",
              "17 2021-04-27       35.0      34.0  ...       45.0      47.0        67.0\n",
              "18 2021-04-28       34.0      30.0  ...       47.0      53.0        63.0\n",
              "19 2021-04-29       41.0      35.0  ...       35.0      46.0        64.0\n",
              "20 2021-04-30       24.0      31.0  ...       22.0      30.0        66.0\n",
              "21 2021-05-01       38.0      39.0  ...       34.0      34.0        37.0\n",
              "22 2021-05-02       31.0      29.0  ...       34.0      87.0        40.0\n",
              "23 2021-05-03       41.0      36.0  ...       42.0      67.0        53.0\n",
              "24 2021-05-04       38.0      35.0  ...       51.0      54.0        49.0\n",
              "25 2021-05-05       41.0      35.0  ...       34.0      76.0        53.0\n",
              "26 2021-05-06       39.0      37.0  ...       32.0      66.0        52.0\n",
              "27 2021-05-07       40.0      30.0  ...       23.0      61.0        58.0\n",
              "28 2021-05-08       37.0      49.0  ...       30.0      54.0        27.0\n",
              "29 2021-05-09       47.0      43.0  ...       22.0      93.0        60.0\n",
              "30 2021-05-10       40.0      53.0  ...       54.0      47.0        57.0\n",
              "\n",
              "[31 rows x 8 columns]"
            ]
          },
          "metadata": {
            "tags": []
          },
          "execution_count": 135
        }
      ]
    },
    {
      "cell_type": "code",
      "metadata": {
        "colab": {
          "base_uri": "https://localhost:8080/",
          "height": 418
        },
        "id": "N-Sxh08U-Bub",
        "outputId": "d35ec380-03c7-432f-fbec-d00ceee8a0c6"
      },
      "source": [
        "sns.lineplot(original['Date'], original['CHIRURGIE'])\n",
        "sns.lineplot(df_forecast['Date'], df_forecast['chirurgie'])\n",
        "sns.lineplot(df_forecast['Date'], real['CHIRURGIE'], color='r')"
      ],
      "execution_count": 136,
      "outputs": [
        {
          "output_type": "stream",
          "text": [
            "/usr/local/lib/python3.7/dist-packages/seaborn/_decorators.py:43: FutureWarning: Pass the following variables as keyword args: x, y. From version 0.12, the only valid positional argument will be `data`, and passing other arguments without an explicit keyword will result in an error or misinterpretation.\n",
            "  FutureWarning\n",
            "/usr/local/lib/python3.7/dist-packages/seaborn/_decorators.py:43: FutureWarning: Pass the following variables as keyword args: x, y. From version 0.12, the only valid positional argument will be `data`, and passing other arguments without an explicit keyword will result in an error or misinterpretation.\n",
            "  FutureWarning\n",
            "/usr/local/lib/python3.7/dist-packages/seaborn/_decorators.py:43: FutureWarning: Pass the following variables as keyword args: x, y. From version 0.12, the only valid positional argument will be `data`, and passing other arguments without an explicit keyword will result in an error or misinterpretation.\n",
            "  FutureWarning\n"
          ],
          "name": "stderr"
        },
        {
          "output_type": "execute_result",
          "data": {
            "text/plain": [
              "<matplotlib.axes._subplots.AxesSubplot at 0x7fc1cb735610>"
            ]
          },
          "metadata": {
            "tags": []
          },
          "execution_count": 136
        },
        {
          "output_type": "display_data",
          "data": {
            "image/png": "[encoded data removed]",
            "text/plain": [
              "<Figure size 432x288 with 1 Axes>"
            ]
          },
          "metadata": {
            "tags": [],
            "needs_background": "light"
          }
        }
      ]
    },
    {
      "cell_type": "code",
      "metadata": {
        "colab": {
          "base_uri": "https://localhost:8080/",
          "height": 418
        },
        "id": "sgPM4tu9-EYg",
        "outputId": "3b381a00-b0d6-4d97-a612-b57d457d92e0"
      },
      "source": [
        "sns.lineplot(original['Date'], original['MEDICALE'])\n",
        "sns.lineplot(df_forecast['Date'], df_forecast['medicale'])\n",
        "sns.lineplot(df_forecast['Date'], real['MEDICALE'], color='r')"
      ],
      "execution_count": 137,
      "outputs": [
        {
          "output_type": "stream",
          "text": [
            "/usr/local/lib/python3.7/dist-packages/seaborn/_decorators.py:43: FutureWarning: Pass the following variables as keyword args: x, y. From version 0.12, the only valid positional argument will be `data`, and passing other arguments without an explicit keyword will result in an error or misinterpretation.\n",
            "  FutureWarning\n",
            "/usr/local/lib/python3.7/dist-packages/seaborn/_decorators.py:43: FutureWarning: Pass the following variables as keyword args: x, y. From version 0.12, the only valid positional argument will be `data`, and passing other arguments without an explicit keyword will result in an error or misinterpretation.\n",
            "  FutureWarning\n",
            "/usr/local/lib/python3.7/dist-packages/seaborn/_decorators.py:43: FutureWarning: Pass the following variables as keyword args: x, y. From version 0.12, the only valid positional argument will be `data`, and passing other arguments without an explicit keyword will result in an error or misinterpretation.\n",
            "  FutureWarning\n"
          ],
          "name": "stderr"
        },
        {
          "output_type": "execute_result",
          "data": {
            "text/plain": [
              "<matplotlib.axes._subplots.AxesSubplot at 0x7fc1cb84b190>"
            ]
          },
          "metadata": {
            "tags": []
          },
          "execution_count": 137
        },
        {
          "output_type": "display_data",
          "data": {
            "image/png": "[encoded data removed]",
            "text/plain": [
              "<Figure size 432x288 with 1 Axes>"
            ]
          },
          "metadata": {
            "tags": [],
            "needs_background": "light"
          }
        }
      ]
    },
    {
      "cell_type": "code",
      "metadata": {
        "id": "9l9mtego7Ssv",
        "colab": {
          "base_uri": "https://localhost:8080/",
          "height": 418
        },
        "outputId": "b38e8e26-ad86-41d9-ae40-f9381ac32b32"
      },
      "source": [
        "sns.lineplot(original['Date'], original['ORTHOPEDIE'])\n",
        "sns.lineplot(df_forecast['Date'], df_forecast['orthopedie'])\n",
        "sns.lineplot(df_forecast['Date'], real['ORTHOPEDIE'], color='r')"
      ],
      "execution_count": 138,
      "outputs": [
        {
          "output_type": "stream",
          "text": [
            "/usr/local/lib/python3.7/dist-packages/seaborn/_decorators.py:43: FutureWarning: Pass the following variables as keyword args: x, y. From version 0.12, the only valid positional argument will be `data`, and passing other arguments without an explicit keyword will result in an error or misinterpretation.\n",
            "  FutureWarning\n",
            "/usr/local/lib/python3.7/dist-packages/seaborn/_decorators.py:43: FutureWarning: Pass the following variables as keyword args: x, y. From version 0.12, the only valid positional argument will be `data`, and passing other arguments without an explicit keyword will result in an error or misinterpretation.\n",
            "  FutureWarning\n",
            "/usr/local/lib/python3.7/dist-packages/seaborn/_decorators.py:43: FutureWarning: Pass the following variables as keyword args: x, y. From version 0.12, the only valid positional argument will be `data`, and passing other arguments without an explicit keyword will result in an error or misinterpretation.\n",
            "  FutureWarning\n"
          ],
          "name": "stderr"
        },
        {
          "output_type": "execute_result",
          "data": {
            "text/plain": [
              "<matplotlib.axes._subplots.AxesSubplot at 0x7fc1cb6eb4d0>"
            ]
          },
          "metadata": {
            "tags": []
          },
          "execution_count": 138
        },
        {
          "output_type": "display_data",
          "data": {
            "image/png": "[encoded data removed]",
            "text/plain": [
              "<Figure size 432x288 with 1 Axes>"
            ]
          },
          "metadata": {
            "tags": [],
            "needs_background": "light"
          }
        }
      ]
    },
    {
      "cell_type": "code",
      "metadata": {
        "id": "DDr3MtOf8M_Y"
      },
      "source": [
        ""
      ],
      "execution_count": 124,
      "outputs": []
    }
  ]
}