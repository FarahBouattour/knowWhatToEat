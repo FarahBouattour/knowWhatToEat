{
  "nbformat": 4,
  "nbformat_minor": 0,
  "metadata": {
    "colab": {
      "name": "Try just 3 flow .ipynb",
      "provenance": [],
      "authorship_tag": "ABX9TyPCpCXIFg59UP27r0xn5a6f",
      "include_colab_link": true
    },
    "kernelspec": {
      "display_name": "Python 3",
      "name": "python3"
    },
    "language_info": {
      "name": "python"
    },
    "accelerator": "GPU"
  },
  "cells": [
    {
      "cell_type": "markdown",
      "metadata": {
        "id": "view-in-github",
        "colab_type": "text"
      },
      "source": [
        "<a href=\"https://colab.research.google.com/github/FarahBouattour/knowWhatToEat/blob/main/multi_results.ipynb\" target=\"_parent\"><img src=\"https://colab.research.google.com/assets/colab-badge.svg\" alt=\"Open In Colab\"/></a>"
      ]
    },
    {
      "cell_type": "code",
      "metadata": {
        "colab": {
          "base_uri": "https://localhost:8080/"
        },
        "id": "mJepqKiS6KrJ",
        "outputId": "b39d1adc-75f4-4518-b83e-687c8d361716"
      },
      "source": [
        "import tensorflow as tf\n",
        "import numpy as np\n",
        "import matplotlib.pyplot as plt\n",
        "import pandas as pd\n",
        "import seaborn as sns\n",
        "from sklearn.utils import shuffle\n",
        "print(tf.__version__)"
      ],
      "execution_count": 18,
      "outputs": [
        {
          "output_type": "stream",
          "text": [
            "2.5.0\n"
          ],
          "name": "stdout"
        }
      ]
    },
    {
      "cell_type": "code",
      "metadata": {
        "colab": {
          "base_uri": "https://localhost:8080/"
        },
        "id": "NEjXGvus51_K",
        "outputId": "e7afa644-0ab3-44ce-ef6f-e2a84600766b"
      },
      "source": [
        "from sklearn.preprocessing import MinMaxScaler\n",
        "\n",
        "d21 = pd.read_csv('test_data_pca_dt_covid_fi.csv')\n",
        "d20 = pd.read_csv('data_pca_dt_covid_fi.csv')\n",
        "# 2019 - 2020\n",
        "#d20 = d20.iloc[1461:,:]\n",
        "d20 = d20.iloc[1826:,:]\n",
        "d21_train = d21.iloc[:100,:]\n",
        "d21_test = d21.iloc[100:,:]\n",
        "df = pd.concat([d20,d21_train], ignore_index=True)\n",
        "\n",
        "#Separate dates for future plotting\n",
        "train_dates = pd.to_datetime(df['Date'])\n",
        "\n",
        "#Variables for training \n",
        "cols = list(df)[2:5]\n",
        "df_for_training = df[cols].astype(float)\n",
        "\n",
        "training_data = df_for_training.to_numpy()\n",
        "\n",
        "\n",
        "trainX = []\n",
        "trainY = []\n",
        "\n",
        "n_future = 1   # Number of days we want to predict into the future\n",
        "window_size = 7    # Number of past days we want to use to predict the future\n",
        "\n",
        "for i in range(window_size, len(df_for_training) - n_future +1):\n",
        "    trainX.append(training_data[i - window_size:i, :df_for_training.shape[1]])\n",
        "    trainY.append(training_data[i + n_future - 1:i + n_future, :4])\n",
        "\n",
        "\n",
        "trainX, trainY = np.array(trainX), np.array(trainY)\n",
        "trainY = np.squeeze(trainY)\n",
        "\n",
        "#trainX, trainY = shuffle(trainX, trainY, random_state=42)\n",
        "\n",
        "print('trainX shape == {}.'.format(trainX.shape))\n",
        "print('trainY shape == {}.'.format(trainY.shape))\n"
      ],
      "execution_count": 31,
      "outputs": [
        {
          "output_type": "stream",
          "text": [
            "trainX shape == (459, 7, 3).\n",
            "trainY shape == (459, 3).\n"
          ],
          "name": "stdout"
        }
      ]
    },
    {
      "cell_type": "code",
      "metadata": {
        "colab": {
          "base_uri": "https://localhost:8080/"
        },
        "id": "rBIJEAn56MW7",
        "outputId": "e03ca033-8ce0-444c-b9e1-836dbc23e1de"
      },
      "source": [
        "model = tf.keras.models.Sequential([\n",
        "  tf.keras.layers.Conv1D(filters=16, kernel_size=5, strides=1, \n",
        "                         padding=\"causal\", \n",
        "                         activation=\"relu\", \n",
        "                         input_shape=(trainX.shape[1], trainX.shape[2])),\n",
        "  tf.keras.layers.LSTM(64, return_sequences=True),\n",
        "  tf.keras.layers.SimpleRNN(512, return_sequences=False),\n",
        "  tf.keras.layers.Dense(90, activation=\"relu\"),\n",
        "  #tf.keras.layers.Dropout(0.3),\n",
        "  tf.keras.layers.Dense(30, activation=\"relu\"),\n",
        "  tf.keras.layers.Dense(trainY.shape[1]),\n",
        "  tf.keras.layers.Lambda(lambda x: x * 100)\n",
        "])\n",
        "\n",
        "lr_schedule = tf.keras.callbacks.LearningRateScheduler(\n",
        "    lambda epoch: 1e-8 * 10**(epoch / 20))\n",
        "optimizer = tf.keras.optimizers.SGD(learning_rate=1e-4, momentum=0.9)\n",
        "model.compile(loss=tf.keras.losses.Huber(),\n",
        "              optimizer=optimizer,\n",
        "              metrics=[\"mae\", \"mape\"])\n",
        "\n",
        "history = model.fit(trainX, trainY, epochs=65, batch_size=32,\n",
        "                    validation_split=0.3, verbose=1,\n",
        "                    callbacks=[lr_schedule])"
      ],
      "execution_count": 32,
      "outputs": [
        {
          "output_type": "stream",
          "text": [
            "Epoch 1/65\n",
            "11/11 [==============================] - 3s 94ms/step - loss: 94.0558 - mae: 94.5557 - mape: 143.5899 - val_loss: 83.5637 - val_mae: 84.0637 - val_mape: 137.1172\n",
            "Epoch 2/65\n",
            "11/11 [==============================] - 0s 36ms/step - loss: 93.8464 - mae: 94.3462 - mape: 143.1889 - val_loss: 83.2560 - val_mae: 83.7560 - val_mape: 136.4784\n",
            "Epoch 3/65\n",
            "11/11 [==============================] - 0s 39ms/step - loss: 93.5292 - mae: 94.0289 - mape: 142.5731 - val_loss: 82.8636 - val_mae: 83.3636 - val_mape: 135.6684\n",
            "Epoch 4/65\n",
            "11/11 [==============================] - 0s 37ms/step - loss: 93.1483 - mae: 93.6480 - mape: 141.8409 - val_loss: 82.4109 - val_mae: 82.9109 - val_mape: 134.7303\n",
            "Epoch 5/65\n",
            "11/11 [==============================] - 0s 37ms/step - loss: 92.7157 - mae: 93.2154 - mape: 141.0306 - val_loss: 81.8964 - val_mae: 82.3964 - val_mape: 133.6640\n",
            "Epoch 6/65\n",
            "11/11 [==============================] - 0s 38ms/step - loss: 92.2219 - mae: 92.7218 - mape: 140.0789 - val_loss: 81.3068 - val_mae: 81.8068 - val_mape: 132.4415\n",
            "Epoch 7/65\n",
            "11/11 [==============================] - 0s 37ms/step - loss: 91.6604 - mae: 92.1604 - mape: 139.0201 - val_loss: 80.6463 - val_mae: 81.1463 - val_mape: 131.0696\n",
            "Epoch 8/65\n",
            "11/11 [==============================] - 0s 40ms/step - loss: 91.0318 - mae: 91.5318 - mape: 137.8204 - val_loss: 79.9025 - val_mae: 80.4025 - val_mape: 129.5328\n",
            "Epoch 9/65\n",
            "11/11 [==============================] - 0s 38ms/step - loss: 90.3211 - mae: 90.8211 - mape: 136.4851 - val_loss: 79.0647 - val_mae: 79.5647 - val_mape: 127.7999\n",
            "Epoch 10/65\n",
            "11/11 [==============================] - 0s 37ms/step - loss: 89.5162 - mae: 90.0159 - mape: 134.9155 - val_loss: 78.1279 - val_mae: 78.6279 - val_mape: 125.8655\n",
            "Epoch 11/65\n",
            "11/11 [==============================] - 0s 37ms/step - loss: 88.6269 - mae: 89.1269 - mape: 133.2803 - val_loss: 77.0990 - val_mae: 77.5990 - val_mape: 123.7248\n",
            "Epoch 12/65\n",
            "11/11 [==============================] - 0s 37ms/step - loss: 87.6444 - mae: 88.1444 - mape: 131.4691 - val_loss: 75.9398 - val_mae: 76.4398 - val_mape: 121.3355\n",
            "Epoch 13/65\n",
            "11/11 [==============================] - 0s 36ms/step - loss: 86.5355 - mae: 87.0352 - mape: 129.3737 - val_loss: 74.6199 - val_mae: 75.1199 - val_mape: 118.5951\n",
            "Epoch 14/65\n",
            "11/11 [==============================] - 0s 35ms/step - loss: 85.2742 - mae: 85.7737 - mape: 127.0549 - val_loss: 73.1455 - val_mae: 73.6447 - val_mape: 115.5246\n",
            "Epoch 15/65\n",
            "11/11 [==============================] - 0s 36ms/step - loss: 83.8643 - mae: 84.3642 - mape: 124.4332 - val_loss: 71.5335 - val_mae: 72.0335 - val_mape: 112.1759\n",
            "Epoch 16/65\n",
            "11/11 [==============================] - 0s 36ms/step - loss: 82.3211 - mae: 82.8204 - mape: 121.6037 - val_loss: 69.7271 - val_mae: 70.2271 - val_mape: 108.4460\n",
            "Epoch 17/65\n",
            "11/11 [==============================] - 0s 38ms/step - loss: 80.6178 - mae: 81.1170 - mape: 118.6525 - val_loss: 67.7720 - val_mae: 68.2694 - val_mape: 104.4625\n",
            "Epoch 18/65\n",
            "11/11 [==============================] - 0s 37ms/step - loss: 78.7910 - mae: 79.2899 - mape: 115.4573 - val_loss: 65.6569 - val_mae: 66.1569 - val_mape: 100.3915\n",
            "Epoch 19/65\n",
            "11/11 [==============================] - 0s 37ms/step - loss: 76.7641 - mae: 77.2626 - mape: 112.0550 - val_loss: 63.4157 - val_mae: 63.9143 - val_mape: 96.1793\n",
            "Epoch 20/65\n",
            "11/11 [==============================] - 0s 37ms/step - loss: 74.5799 - mae: 75.0788 - mape: 108.5194 - val_loss: 60.9977 - val_mae: 61.4975 - val_mape: 91.8291\n",
            "Epoch 21/65\n",
            "11/11 [==============================] - 0s 36ms/step - loss: 72.3741 - mae: 72.8729 - mape: 105.5651 - val_loss: 58.5644 - val_mae: 59.0638 - val_mape: 87.5876\n",
            "Epoch 22/65\n",
            "11/11 [==============================] - 0s 38ms/step - loss: 70.1328 - mae: 70.6320 - mape: 102.4618 - val_loss: 56.0747 - val_mae: 56.5704 - val_mape: 83.5058\n",
            "Epoch 23/65\n",
            "11/11 [==============================] - 0s 36ms/step - loss: 67.8103 - mae: 68.3064 - mape: 99.6439 - val_loss: 53.5020 - val_mae: 54.0006 - val_mape: 79.7144\n",
            "Epoch 24/65\n",
            "11/11 [==============================] - 0s 36ms/step - loss: 65.5560 - mae: 66.0537 - mape: 97.8691 - val_loss: 51.1007 - val_mae: 51.5940 - val_mape: 76.4070\n",
            "Epoch 25/65\n",
            "11/11 [==============================] - 0s 37ms/step - loss: 63.4290 - mae: 63.9271 - mape: 96.3600 - val_loss: 49.0163 - val_mae: 49.5127 - val_mape: 73.8451\n",
            "Epoch 26/65\n",
            "11/11 [==============================] - 0s 37ms/step - loss: 61.3216 - mae: 61.8188 - mape: 94.3548 - val_loss: 46.9700 - val_mae: 47.4655 - val_mape: 71.4196\n",
            "Epoch 27/65\n",
            "11/11 [==============================] - 0s 38ms/step - loss: 59.2332 - mae: 59.7319 - mape: 92.5407 - val_loss: 44.9308 - val_mae: 45.4298 - val_mape: 69.2940\n",
            "Epoch 28/65\n",
            "11/11 [==============================] - 0s 37ms/step - loss: 57.0249 - mae: 57.5215 - mape: 90.7840 - val_loss: 42.7549 - val_mae: 43.2507 - val_mape: 66.8229\n",
            "Epoch 29/65\n",
            "11/11 [==============================] - 0s 36ms/step - loss: 54.7497 - mae: 55.2472 - mape: 87.5950 - val_loss: 40.3328 - val_mae: 40.8289 - val_mape: 63.3866\n",
            "Epoch 30/65\n",
            "11/11 [==============================] - 0s 37ms/step - loss: 52.3176 - mae: 52.8159 - mape: 84.1757 - val_loss: 37.8390 - val_mae: 38.3352 - val_mape: 60.1828\n",
            "Epoch 31/65\n",
            "11/11 [==============================] - 0s 36ms/step - loss: 49.5843 - mae: 50.0804 - mape: 79.5476 - val_loss: 34.8732 - val_mae: 35.3719 - val_mape: 55.9495\n",
            "Epoch 32/65\n",
            "11/11 [==============================] - 0s 41ms/step - loss: 46.6321 - mae: 47.1289 - mape: 75.1198 - val_loss: 32.0291 - val_mae: 32.5259 - val_mape: 52.2258\n",
            "Epoch 33/65\n",
            "11/11 [==============================] - 0s 37ms/step - loss: 43.3807 - mae: 43.8792 - mape: 71.1203 - val_loss: 29.1019 - val_mae: 29.6001 - val_mape: 48.7276\n",
            "Epoch 34/65\n",
            "11/11 [==============================] - 0s 37ms/step - loss: 39.7514 - mae: 40.2471 - mape: 67.1056 - val_loss: 25.1072 - val_mae: 25.6025 - val_mape: 43.0569\n",
            "Epoch 35/65\n",
            "11/11 [==============================] - 0s 36ms/step - loss: 35.9132 - mae: 36.4095 - mape: 61.5059 - val_loss: 20.6462 - val_mae: 21.1428 - val_mape: 36.3599\n",
            "Epoch 36/65\n",
            "11/11 [==============================] - 0s 36ms/step - loss: 32.7177 - mae: 33.2120 - mape: 59.9672 - val_loss: 18.2825 - val_mae: 18.7764 - val_mape: 34.7174\n",
            "Epoch 37/65\n",
            "11/11 [==============================] - 0s 38ms/step - loss: 30.4945 - mae: 30.9885 - mape: 61.1176 - val_loss: 17.0539 - val_mae: 17.5473 - val_mape: 34.2638\n",
            "Epoch 38/65\n",
            "11/11 [==============================] - 0s 36ms/step - loss: 29.0873 - mae: 29.5818 - mape: 60.9748 - val_loss: 16.1820 - val_mae: 16.6762 - val_mape: 32.7158\n",
            "Epoch 39/65\n",
            "11/11 [==============================] - 0s 41ms/step - loss: 28.4674 - mae: 28.9627 - mape: 62.1915 - val_loss: 16.4259 - val_mae: 16.9230 - val_mape: 34.1606\n",
            "Epoch 40/65\n",
            "11/11 [==============================] - 0s 38ms/step - loss: 27.9397 - mae: 28.4360 - mape: 62.1930 - val_loss: 16.1275 - val_mae: 16.6197 - val_mape: 33.4784\n",
            "Epoch 41/65\n",
            "11/11 [==============================] - 0s 36ms/step - loss: 27.4781 - mae: 27.9739 - mape: 63.0047 - val_loss: 16.2785 - val_mae: 16.7738 - val_mape: 34.1425\n",
            "Epoch 42/65\n",
            "11/11 [==============================] - 0s 39ms/step - loss: 27.0442 - mae: 27.5394 - mape: 61.5910 - val_loss: 15.7154 - val_mae: 16.2108 - val_mape: 32.4022\n",
            "Epoch 43/65\n",
            "11/11 [==============================] - 0s 37ms/step - loss: 26.6431 - mae: 27.1380 - mape: 63.0548 - val_loss: 16.4818 - val_mae: 16.9749 - val_mape: 34.9142\n",
            "Epoch 44/65\n",
            "11/11 [==============================] - 0s 39ms/step - loss: 26.2035 - mae: 26.6994 - mape: 62.3649 - val_loss: 15.4590 - val_mae: 15.9526 - val_mape: 31.2925\n",
            "Epoch 45/65\n",
            "11/11 [==============================] - 0s 39ms/step - loss: 26.1645 - mae: 26.6598 - mape: 60.4333 - val_loss: 16.2062 - val_mae: 16.6989 - val_mape: 33.3640\n",
            "Epoch 46/65\n",
            "11/11 [==============================] - 0s 37ms/step - loss: 25.5166 - mae: 26.0116 - mape: 61.8450 - val_loss: 16.7016 - val_mae: 17.1932 - val_mape: 35.0586\n",
            "Epoch 47/65\n",
            "11/11 [==============================] - 0s 39ms/step - loss: 25.0078 - mae: 25.5028 - mape: 62.9412 - val_loss: 15.8997 - val_mae: 16.3933 - val_mape: 32.5861\n",
            "Epoch 48/65\n",
            "11/11 [==============================] - 0s 38ms/step - loss: 24.4773 - mae: 24.9737 - mape: 62.4492 - val_loss: 15.8299 - val_mae: 16.3239 - val_mape: 32.0227\n",
            "Epoch 49/65\n",
            "11/11 [==============================] - 0s 37ms/step - loss: 24.4130 - mae: 24.9100 - mape: 60.0062 - val_loss: 16.5800 - val_mae: 17.0700 - val_mape: 34.6018\n",
            "Epoch 50/65\n",
            "11/11 [==============================] - 0s 37ms/step - loss: 23.7078 - mae: 24.2049 - mape: 61.0074 - val_loss: 17.1617 - val_mae: 17.6573 - val_mape: 35.9574\n",
            "Epoch 51/65\n",
            "11/11 [==============================] - 0s 39ms/step - loss: 23.4962 - mae: 23.9915 - mape: 65.8291 - val_loss: 16.7813 - val_mae: 17.2756 - val_mape: 32.4620\n",
            "Epoch 52/65\n",
            "11/11 [==============================] - 0s 38ms/step - loss: 22.3121 - mae: 22.8077 - mape: 60.2606 - val_loss: 16.3479 - val_mae: 16.8372 - val_mape: 33.5981\n",
            "Epoch 53/65\n",
            "11/11 [==============================] - 0s 39ms/step - loss: 21.7238 - mae: 22.2179 - mape: 57.3557 - val_loss: 15.3798 - val_mae: 15.8703 - val_mape: 30.7086\n",
            "Epoch 54/65\n",
            "11/11 [==============================] - 0s 37ms/step - loss: 20.9615 - mae: 21.4550 - mape: 54.5823 - val_loss: 15.5670 - val_mae: 16.0624 - val_mape: 30.5241\n",
            "Epoch 55/65\n",
            "11/11 [==============================] - 0s 38ms/step - loss: 20.2404 - mae: 20.7337 - mape: 58.2030 - val_loss: 15.4554 - val_mae: 15.9465 - val_mape: 30.9576\n",
            "Epoch 56/65\n",
            "11/11 [==============================] - 0s 39ms/step - loss: 19.3201 - mae: 19.8112 - mape: 56.5569 - val_loss: 13.9579 - val_mae: 14.4484 - val_mape: 27.4454\n",
            "Epoch 57/65\n",
            "11/11 [==============================] - 0s 42ms/step - loss: 18.8980 - mae: 19.3915 - mape: 49.8957 - val_loss: 15.5498 - val_mae: 16.0401 - val_mape: 31.2167\n",
            "Epoch 58/65\n",
            "11/11 [==============================] - 0s 43ms/step - loss: 18.0102 - mae: 18.5016 - mape: 49.8431 - val_loss: 16.9867 - val_mae: 17.4820 - val_mape: 36.4511\n",
            "Epoch 59/65\n",
            "11/11 [==============================] - 0s 38ms/step - loss: 19.9982 - mae: 20.4946 - mape: 52.7241 - val_loss: 21.7865 - val_mae: 22.2851 - val_mape: 47.2292\n",
            "Epoch 60/65\n",
            "11/11 [==============================] - 0s 38ms/step - loss: 19.3966 - mae: 19.8925 - mape: 52.5145 - val_loss: 17.3115 - val_mae: 17.8039 - val_mape: 36.6463\n",
            "Epoch 61/65\n",
            "11/11 [==============================] - 0s 38ms/step - loss: 17.5697 - mae: 18.0663 - mape: 51.7581 - val_loss: 14.3772 - val_mae: 14.8695 - val_mape: 24.8927\n",
            "Epoch 62/65\n",
            "11/11 [==============================] - 0s 38ms/step - loss: 18.7637 - mae: 19.2564 - mape: 46.3996 - val_loss: 15.7314 - val_mae: 16.2253 - val_mape: 33.1487\n",
            "Epoch 63/65\n",
            "11/11 [==============================] - 0s 39ms/step - loss: 18.0358 - mae: 18.5298 - mape: 47.6763 - val_loss: 16.2039 - val_mae: 16.6966 - val_mape: 31.1609\n",
            "Epoch 64/65\n",
            "11/11 [==============================] - 0s 37ms/step - loss: 18.2182 - mae: 18.7133 - mape: 50.7282 - val_loss: 21.5438 - val_mae: 22.0411 - val_mape: 37.4101\n",
            "Epoch 65/65\n",
            "11/11 [==============================] - 0s 40ms/step - loss: 23.7426 - mae: 24.2381 - mape: 58.3969 - val_loss: 15.6826 - val_mae: 16.1774 - val_mape: 28.8854\n"
          ],
          "name": "stdout"
        }
      ]
    },
    {
      "cell_type": "code",
      "metadata": {
        "colab": {
          "base_uri": "https://localhost:8080/",
          "height": 281
        },
        "id": "9J6BXVVuhf9Y",
        "outputId": "8c8765ea-8110-4bd6-da9e-4c84569b67fd"
      },
      "source": [
        "plt.plot(history.history['loss'], label='Training loss')\n",
        "plt.plot(history.history['val_loss'], label='Validation loss')\n",
        "plt.legend()"
      ],
      "execution_count": 33,
      "outputs": [
        {
          "output_type": "execute_result",
          "data": {
            "text/plain": [
              "<matplotlib.legend.Legend at 0x7f48ff0a0e50>"
            ]
          },
          "metadata": {
            "tags": []
          },
          "execution_count": 33
        },
        {
          "output_type": "display_data",
          "data": {
            "image/png": "[encoded data removed]",
            "text/plain": [
              "<Figure size 432x288 with 1 Axes>"
            ]
          },
          "metadata": {
            "tags": [],
            "needs_background": "light"
          }
        }
      ]
    },
    {
      "cell_type": "code",
      "metadata": {
        "colab": {
          "base_uri": "https://localhost:8080/"
        },
        "id": "eBKFihcNppJB",
        "outputId": "1690c6c7-f8fa-443f-cc4b-a093c2a522b2"
      },
      "source": [
        "forecast_period = d21_test.shape[0]  \n",
        "forecast_period_dates = pd.date_range(list(train_dates)[-1], periods=forecast_period, freq='1d').tolist()\n",
        "\n",
        "forecast = model.predict(trainX[-n_future:]) #(1,31,10) shape of trainX[-n_future]\n",
        "forecast"
      ],
      "execution_count": 34,
      "outputs": [
        {
          "output_type": "execute_result",
          "data": {
            "text/plain": [
              "array([[25.851145, 80.49244 , 67.48827 ]], dtype=float32)"
            ]
          },
          "metadata": {
            "tags": []
          },
          "execution_count": 34
        }
      ]
    },
    {
      "cell_type": "code",
      "metadata": {
        "colab": {
          "base_uri": "https://localhost:8080/"
        },
        "id": "gLJuLMGQEVHM",
        "outputId": "2dba04f9-2f55-42c2-c936-b51d232ac527"
      },
      "source": [
        "result = np.zeros((31, 3))\n",
        "#result[0] = scaler.inverse_transform(forecast)[:,:4][0]\n",
        "result[0] = [abs(int(i)) for i in forecast[:,:4][0]]\n",
        "trainX[-1][-1][:3] = trainY[-1]\n",
        "\n",
        "for i in range(30):\n",
        "  y_pred_row = forecast\n",
        "  row = list(y_pred_row[0])\n",
        "  test = np.zeros((1, window_size, 3))\n",
        "  test[0][:window_size - 1] = trainX[-1:][0][1:]\n",
        "  test[0][window_size - 1] = row\n",
        "  trainX = test\n",
        "  forecast = model.predict(trainX)\n",
        "  #print(forecast)\n",
        "  #result[i] = scaler.inverse_transform(forecast)[:,:4][0]\n",
        "  result[i+1] = [abs(int(i)) for i in forecast[:,:4][0]]\n",
        "\n",
        "result"
      ],
      "execution_count": 35,
      "outputs": [
        {
          "output_type": "execute_result",
          "data": {
            "text/plain": [
              "array([[ 25.,  80.,  67.],\n",
              "       [ 21.,  78.,  58.],\n",
              "       [ 26., 102.,  91.],\n",
              "       [ 28.,  75.,  71.],\n",
              "       [ 20.,  91.,  74.],\n",
              "       [ 20.,  88.,  80.],\n",
              "       [ 33.,  66.,  60.],\n",
              "       [ 15.,  84.,  56.],\n",
              "       [  9.,  77.,  65.],\n",
              "       [ 15.,  86.,  76.],\n",
              "       [ 14.,  84.,  62.],\n",
              "       [ 11.,  87.,  70.],\n",
              "       [ 10.,  83.,  67.],\n",
              "       [ 20.,  77.,  57.],\n",
              "       [ 11.,  89.,  57.],\n",
              "       [  0.,  76.,  60.],\n",
              "       [  6.,  80.,  60.],\n",
              "       [ 11.,  85.,  57.],\n",
              "       [  4.,  82.,  60.],\n",
              "       [  4.,  72.,  54.],\n",
              "       [ 15.,  89.,  48.],\n",
              "       [ 12.,  86.,  37.],\n",
              "       [  6.,  73.,  34.],\n",
              "       [  1.,  70.,  42.],\n",
              "       [  6.,  80.,  49.],\n",
              "       [  2.,  70.,  48.],\n",
              "       [  1.,  65.,  39.],\n",
              "       [ 16.,  88.,  36.],\n",
              "       [ 15.,  75.,  20.],\n",
              "       [  7.,  53.,  19.],\n",
              "       [  1.,  68.,  27.]])"
            ]
          },
          "metadata": {
            "tags": []
          },
          "execution_count": 35
        }
      ]
    },
    {
      "cell_type": "code",
      "metadata": {
        "colab": {
          "base_uri": "https://localhost:8080/",
          "height": 1000
        },
        "id": "aO9vDQPe7M2C",
        "outputId": "2a92151d-8eeb-4384-cf93-9a4a2946c353"
      },
      "source": [
        "# Convert timestamp to date\n",
        "forecast_dates = []\n",
        "for time_i in forecast_period_dates:\n",
        "    forecast_dates.append(time_i.date())\n",
        "    \n",
        "df_forecast = pd.DataFrame({'Date':np.array(forecast_dates[:31]), \n",
        "                            'chirurgie':result[:,0],\n",
        "                            'medicale':result[:,1],\n",
        "                            'orthopedie':result[:,2]})\n",
        "                            #'flux_journalier':result.sum(axis=1)})\n",
        "df_forecast['Date']=pd.to_datetime(df_forecast['Date'])\n",
        "\n",
        "cols = list(df)[:5]\n",
        "original = df[cols]\n",
        "original['Date']=pd.to_datetime(original['Date'])\n",
        "original = original.loc[original['Date'] >= '2021-03-1']\n",
        "\n",
        "#the real data that we predict\n",
        "real = d21_test\n",
        "real = real.iloc[:31,2:5].reset_index()\n",
        "\n",
        "real.reset_index()\n",
        "results = pd.concat([df_forecast, real], axis=1)\n",
        "results"
      ],
      "execution_count": 36,
      "outputs": [
        {
          "output_type": "stream",
          "text": [
            "/usr/local/lib/python3.7/dist-packages/ipykernel_launcher.py:15: SettingWithCopyWarning: \n",
            "A value is trying to be set on a copy of a slice from a DataFrame.\n",
            "Try using .loc[row_indexer,col_indexer] = value instead\n",
            "\n",
            "See the caveats in the documentation: https://pandas.pydata.org/pandas-docs/stable/user_guide/indexing.html#returning-a-view-versus-a-copy\n",
            "  from ipykernel import kernelapp as app\n"
          ],
          "name": "stderr"
        },
        {
          "output_type": "execute_result",
          "data": {
            "text/html": [
              "<div>\n",
              "<style scoped>\n",
              "    .dataframe tbody tr th:only-of-type {\n",
              "        vertical-align: middle;\n",
              "    }\n",
              "\n",
              "    .dataframe tbody tr th {\n",
              "        vertical-align: top;\n",
              "    }\n",
              "\n",
              "    .dataframe thead th {\n",
              "        text-align: right;\n",
              "    }\n",
              "</style>\n",
              "<table border=\"1\" class=\"dataframe\">\n",
              "  <thead>\n",
              "    <tr style=\"text-align: right;\">\n",
              "      <th></th>\n",
              "      <th>Date</th>\n",
              "      <th>chirurgie</th>\n",
              "      <th>medicale</th>\n",
              "      <th>orthopedie</th>\n",
              "      <th>index</th>\n",
              "      <th>CHIRURGIE</th>\n",
              "      <th>MEDICALE</th>\n",
              "      <th>ORTHOPEDIE</th>\n",
              "    </tr>\n",
              "  </thead>\n",
              "  <tbody>\n",
              "    <tr>\n",
              "      <th>0</th>\n",
              "      <td>2021-04-10</td>\n",
              "      <td>25.0</td>\n",
              "      <td>80.0</td>\n",
              "      <td>67.0</td>\n",
              "      <td>100</td>\n",
              "      <td>27.0</td>\n",
              "      <td>39.0</td>\n",
              "      <td>87.0</td>\n",
              "    </tr>\n",
              "    <tr>\n",
              "      <th>1</th>\n",
              "      <td>2021-04-11</td>\n",
              "      <td>21.0</td>\n",
              "      <td>78.0</td>\n",
              "      <td>58.0</td>\n",
              "      <td>101</td>\n",
              "      <td>67.0</td>\n",
              "      <td>108.0</td>\n",
              "      <td>70.0</td>\n",
              "    </tr>\n",
              "    <tr>\n",
              "      <th>2</th>\n",
              "      <td>2021-04-12</td>\n",
              "      <td>26.0</td>\n",
              "      <td>102.0</td>\n",
              "      <td>91.0</td>\n",
              "      <td>102</td>\n",
              "      <td>51.0</td>\n",
              "      <td>69.0</td>\n",
              "      <td>61.0</td>\n",
              "    </tr>\n",
              "    <tr>\n",
              "      <th>3</th>\n",
              "      <td>2021-04-13</td>\n",
              "      <td>28.0</td>\n",
              "      <td>75.0</td>\n",
              "      <td>71.0</td>\n",
              "      <td>103</td>\n",
              "      <td>43.0</td>\n",
              "      <td>76.0</td>\n",
              "      <td>78.0</td>\n",
              "    </tr>\n",
              "    <tr>\n",
              "      <th>4</th>\n",
              "      <td>2021-04-14</td>\n",
              "      <td>20.0</td>\n",
              "      <td>91.0</td>\n",
              "      <td>74.0</td>\n",
              "      <td>104</td>\n",
              "      <td>40.0</td>\n",
              "      <td>87.0</td>\n",
              "      <td>77.0</td>\n",
              "    </tr>\n",
              "    <tr>\n",
              "      <th>5</th>\n",
              "      <td>2021-04-15</td>\n",
              "      <td>20.0</td>\n",
              "      <td>88.0</td>\n",
              "      <td>80.0</td>\n",
              "      <td>105</td>\n",
              "      <td>36.0</td>\n",
              "      <td>77.0</td>\n",
              "      <td>69.0</td>\n",
              "    </tr>\n",
              "    <tr>\n",
              "      <th>6</th>\n",
              "      <td>2021-04-16</td>\n",
              "      <td>33.0</td>\n",
              "      <td>66.0</td>\n",
              "      <td>60.0</td>\n",
              "      <td>106</td>\n",
              "      <td>42.0</td>\n",
              "      <td>92.0</td>\n",
              "      <td>43.0</td>\n",
              "    </tr>\n",
              "    <tr>\n",
              "      <th>7</th>\n",
              "      <td>2021-04-17</td>\n",
              "      <td>15.0</td>\n",
              "      <td>84.0</td>\n",
              "      <td>56.0</td>\n",
              "      <td>107</td>\n",
              "      <td>17.0</td>\n",
              "      <td>53.0</td>\n",
              "      <td>41.0</td>\n",
              "    </tr>\n",
              "    <tr>\n",
              "      <th>8</th>\n",
              "      <td>2021-04-18</td>\n",
              "      <td>9.0</td>\n",
              "      <td>77.0</td>\n",
              "      <td>65.0</td>\n",
              "      <td>108</td>\n",
              "      <td>46.0</td>\n",
              "      <td>88.0</td>\n",
              "      <td>60.0</td>\n",
              "    </tr>\n",
              "    <tr>\n",
              "      <th>9</th>\n",
              "      <td>2021-04-19</td>\n",
              "      <td>15.0</td>\n",
              "      <td>86.0</td>\n",
              "      <td>76.0</td>\n",
              "      <td>109</td>\n",
              "      <td>41.0</td>\n",
              "      <td>77.0</td>\n",
              "      <td>71.0</td>\n",
              "    </tr>\n",
              "    <tr>\n",
              "      <th>10</th>\n",
              "      <td>2021-04-20</td>\n",
              "      <td>14.0</td>\n",
              "      <td>84.0</td>\n",
              "      <td>62.0</td>\n",
              "      <td>110</td>\n",
              "      <td>31.0</td>\n",
              "      <td>80.0</td>\n",
              "      <td>65.0</td>\n",
              "    </tr>\n",
              "    <tr>\n",
              "      <th>11</th>\n",
              "      <td>2021-04-21</td>\n",
              "      <td>11.0</td>\n",
              "      <td>87.0</td>\n",
              "      <td>70.0</td>\n",
              "      <td>111</td>\n",
              "      <td>38.0</td>\n",
              "      <td>82.0</td>\n",
              "      <td>48.0</td>\n",
              "    </tr>\n",
              "    <tr>\n",
              "      <th>12</th>\n",
              "      <td>2021-04-22</td>\n",
              "      <td>10.0</td>\n",
              "      <td>83.0</td>\n",
              "      <td>67.0</td>\n",
              "      <td>112</td>\n",
              "      <td>31.0</td>\n",
              "      <td>79.0</td>\n",
              "      <td>59.0</td>\n",
              "    </tr>\n",
              "    <tr>\n",
              "      <th>13</th>\n",
              "      <td>2021-04-23</td>\n",
              "      <td>20.0</td>\n",
              "      <td>77.0</td>\n",
              "      <td>57.0</td>\n",
              "      <td>113</td>\n",
              "      <td>28.0</td>\n",
              "      <td>58.0</td>\n",
              "      <td>48.0</td>\n",
              "    </tr>\n",
              "    <tr>\n",
              "      <th>14</th>\n",
              "      <td>2021-04-24</td>\n",
              "      <td>11.0</td>\n",
              "      <td>89.0</td>\n",
              "      <td>57.0</td>\n",
              "      <td>114</td>\n",
              "      <td>37.0</td>\n",
              "      <td>51.0</td>\n",
              "      <td>47.0</td>\n",
              "    </tr>\n",
              "    <tr>\n",
              "      <th>15</th>\n",
              "      <td>2021-04-25</td>\n",
              "      <td>0.0</td>\n",
              "      <td>76.0</td>\n",
              "      <td>60.0</td>\n",
              "      <td>115</td>\n",
              "      <td>40.0</td>\n",
              "      <td>61.0</td>\n",
              "      <td>68.0</td>\n",
              "    </tr>\n",
              "    <tr>\n",
              "      <th>16</th>\n",
              "      <td>2021-04-26</td>\n",
              "      <td>6.0</td>\n",
              "      <td>80.0</td>\n",
              "      <td>60.0</td>\n",
              "      <td>116</td>\n",
              "      <td>34.0</td>\n",
              "      <td>43.0</td>\n",
              "      <td>49.0</td>\n",
              "    </tr>\n",
              "    <tr>\n",
              "      <th>17</th>\n",
              "      <td>2021-04-27</td>\n",
              "      <td>11.0</td>\n",
              "      <td>85.0</td>\n",
              "      <td>57.0</td>\n",
              "      <td>117</td>\n",
              "      <td>45.0</td>\n",
              "      <td>47.0</td>\n",
              "      <td>67.0</td>\n",
              "    </tr>\n",
              "    <tr>\n",
              "      <th>18</th>\n",
              "      <td>2021-04-28</td>\n",
              "      <td>4.0</td>\n",
              "      <td>82.0</td>\n",
              "      <td>60.0</td>\n",
              "      <td>118</td>\n",
              "      <td>47.0</td>\n",
              "      <td>53.0</td>\n",
              "      <td>63.0</td>\n",
              "    </tr>\n",
              "    <tr>\n",
              "      <th>19</th>\n",
              "      <td>2021-04-29</td>\n",
              "      <td>4.0</td>\n",
              "      <td>72.0</td>\n",
              "      <td>54.0</td>\n",
              "      <td>119</td>\n",
              "      <td>35.0</td>\n",
              "      <td>46.0</td>\n",
              "      <td>64.0</td>\n",
              "    </tr>\n",
              "    <tr>\n",
              "      <th>20</th>\n",
              "      <td>2021-04-30</td>\n",
              "      <td>15.0</td>\n",
              "      <td>89.0</td>\n",
              "      <td>48.0</td>\n",
              "      <td>120</td>\n",
              "      <td>22.0</td>\n",
              "      <td>30.0</td>\n",
              "      <td>66.0</td>\n",
              "    </tr>\n",
              "    <tr>\n",
              "      <th>21</th>\n",
              "      <td>2021-05-01</td>\n",
              "      <td>12.0</td>\n",
              "      <td>86.0</td>\n",
              "      <td>37.0</td>\n",
              "      <td>121</td>\n",
              "      <td>34.0</td>\n",
              "      <td>34.0</td>\n",
              "      <td>37.0</td>\n",
              "    </tr>\n",
              "    <tr>\n",
              "      <th>22</th>\n",
              "      <td>2021-05-02</td>\n",
              "      <td>6.0</td>\n",
              "      <td>73.0</td>\n",
              "      <td>34.0</td>\n",
              "      <td>122</td>\n",
              "      <td>34.0</td>\n",
              "      <td>87.0</td>\n",
              "      <td>40.0</td>\n",
              "    </tr>\n",
              "    <tr>\n",
              "      <th>23</th>\n",
              "      <td>2021-05-03</td>\n",
              "      <td>1.0</td>\n",
              "      <td>70.0</td>\n",
              "      <td>42.0</td>\n",
              "      <td>123</td>\n",
              "      <td>42.0</td>\n",
              "      <td>67.0</td>\n",
              "      <td>53.0</td>\n",
              "    </tr>\n",
              "    <tr>\n",
              "      <th>24</th>\n",
              "      <td>2021-05-04</td>\n",
              "      <td>6.0</td>\n",
              "      <td>80.0</td>\n",
              "      <td>49.0</td>\n",
              "      <td>124</td>\n",
              "      <td>51.0</td>\n",
              "      <td>54.0</td>\n",
              "      <td>49.0</td>\n",
              "    </tr>\n",
              "    <tr>\n",
              "      <th>25</th>\n",
              "      <td>2021-05-05</td>\n",
              "      <td>2.0</td>\n",
              "      <td>70.0</td>\n",
              "      <td>48.0</td>\n",
              "      <td>125</td>\n",
              "      <td>34.0</td>\n",
              "      <td>76.0</td>\n",
              "      <td>53.0</td>\n",
              "    </tr>\n",
              "    <tr>\n",
              "      <th>26</th>\n",
              "      <td>2021-05-06</td>\n",
              "      <td>1.0</td>\n",
              "      <td>65.0</td>\n",
              "      <td>39.0</td>\n",
              "      <td>126</td>\n",
              "      <td>32.0</td>\n",
              "      <td>66.0</td>\n",
              "      <td>52.0</td>\n",
              "    </tr>\n",
              "    <tr>\n",
              "      <th>27</th>\n",
              "      <td>2021-05-07</td>\n",
              "      <td>16.0</td>\n",
              "      <td>88.0</td>\n",
              "      <td>36.0</td>\n",
              "      <td>127</td>\n",
              "      <td>23.0</td>\n",
              "      <td>61.0</td>\n",
              "      <td>58.0</td>\n",
              "    </tr>\n",
              "    <tr>\n",
              "      <th>28</th>\n",
              "      <td>2021-05-08</td>\n",
              "      <td>15.0</td>\n",
              "      <td>75.0</td>\n",
              "      <td>20.0</td>\n",
              "      <td>128</td>\n",
              "      <td>30.0</td>\n",
              "      <td>54.0</td>\n",
              "      <td>27.0</td>\n",
              "    </tr>\n",
              "    <tr>\n",
              "      <th>29</th>\n",
              "      <td>2021-05-09</td>\n",
              "      <td>7.0</td>\n",
              "      <td>53.0</td>\n",
              "      <td>19.0</td>\n",
              "      <td>129</td>\n",
              "      <td>22.0</td>\n",
              "      <td>93.0</td>\n",
              "      <td>60.0</td>\n",
              "    </tr>\n",
              "    <tr>\n",
              "      <th>30</th>\n",
              "      <td>2021-05-10</td>\n",
              "      <td>1.0</td>\n",
              "      <td>68.0</td>\n",
              "      <td>27.0</td>\n",
              "      <td>130</td>\n",
              "      <td>54.0</td>\n",
              "      <td>47.0</td>\n",
              "      <td>57.0</td>\n",
              "    </tr>\n",
              "  </tbody>\n",
              "</table>\n",
              "</div>"
            ],
            "text/plain": [
              "         Date  chirurgie  medicale  ...  CHIRURGIE  MEDICALE  ORTHOPEDIE\n",
              "0  2021-04-10       25.0      80.0  ...       27.0      39.0        87.0\n",
              "1  2021-04-11       21.0      78.0  ...       67.0     108.0        70.0\n",
              "2  2021-04-12       26.0     102.0  ...       51.0      69.0        61.0\n",
              "3  2021-04-13       28.0      75.0  ...       43.0      76.0        78.0\n",
              "4  2021-04-14       20.0      91.0  ...       40.0      87.0        77.0\n",
              "5  2021-04-15       20.0      88.0  ...       36.0      77.0        69.0\n",
              "6  2021-04-16       33.0      66.0  ...       42.0      92.0        43.0\n",
              "7  2021-04-17       15.0      84.0  ...       17.0      53.0        41.0\n",
              "8  2021-04-18        9.0      77.0  ...       46.0      88.0        60.0\n",
              "9  2021-04-19       15.0      86.0  ...       41.0      77.0        71.0\n",
              "10 2021-04-20       14.0      84.0  ...       31.0      80.0        65.0\n",
              "11 2021-04-21       11.0      87.0  ...       38.0      82.0        48.0\n",
              "12 2021-04-22       10.0      83.0  ...       31.0      79.0        59.0\n",
              "13 2021-04-23       20.0      77.0  ...       28.0      58.0        48.0\n",
              "14 2021-04-24       11.0      89.0  ...       37.0      51.0        47.0\n",
              "15 2021-04-25        0.0      76.0  ...       40.0      61.0        68.0\n",
              "16 2021-04-26        6.0      80.0  ...       34.0      43.0        49.0\n",
              "17 2021-04-27       11.0      85.0  ...       45.0      47.0        67.0\n",
              "18 2021-04-28        4.0      82.0  ...       47.0      53.0        63.0\n",
              "19 2021-04-29        4.0      72.0  ...       35.0      46.0        64.0\n",
              "20 2021-04-30       15.0      89.0  ...       22.0      30.0        66.0\n",
              "21 2021-05-01       12.0      86.0  ...       34.0      34.0        37.0\n",
              "22 2021-05-02        6.0      73.0  ...       34.0      87.0        40.0\n",
              "23 2021-05-03        1.0      70.0  ...       42.0      67.0        53.0\n",
              "24 2021-05-04        6.0      80.0  ...       51.0      54.0        49.0\n",
              "25 2021-05-05        2.0      70.0  ...       34.0      76.0        53.0\n",
              "26 2021-05-06        1.0      65.0  ...       32.0      66.0        52.0\n",
              "27 2021-05-07       16.0      88.0  ...       23.0      61.0        58.0\n",
              "28 2021-05-08       15.0      75.0  ...       30.0      54.0        27.0\n",
              "29 2021-05-09        7.0      53.0  ...       22.0      93.0        60.0\n",
              "30 2021-05-10        1.0      68.0  ...       54.0      47.0        57.0\n",
              "\n",
              "[31 rows x 8 columns]"
            ]
          },
          "metadata": {
            "tags": []
          },
          "execution_count": 36
        }
      ]
    },
    {
      "cell_type": "code",
      "metadata": {
        "colab": {
          "base_uri": "https://localhost:8080/",
          "height": 412
        },
        "id": "N-Sxh08U-Bub",
        "outputId": "afe1bebc-33d7-4354-c450-8c15927128e0"
      },
      "source": [
        "sns.lineplot(original['Date'], original['CHIRURGIE'])\n",
        "sns.lineplot(df_forecast['Date'], df_forecast['chirurgie'])\n",
        "sns.lineplot(df_forecast['Date'], real['CHIRURGIE'], color='r')"
      ],
      "execution_count": 37,
      "outputs": [
        {
          "output_type": "stream",
          "text": [
            "/usr/local/lib/python3.7/dist-packages/seaborn/_decorators.py:43: FutureWarning: Pass the following variables as keyword args: x, y. From version 0.12, the only valid positional argument will be `data`, and passing other arguments without an explicit keyword will result in an error or misinterpretation.\n",
            "  FutureWarning\n",
            "/usr/local/lib/python3.7/dist-packages/seaborn/_decorators.py:43: FutureWarning: Pass the following variables as keyword args: x, y. From version 0.12, the only valid positional argument will be `data`, and passing other arguments without an explicit keyword will result in an error or misinterpretation.\n",
            "  FutureWarning\n",
            "/usr/local/lib/python3.7/dist-packages/seaborn/_decorators.py:43: FutureWarning: Pass the following variables as keyword args: x, y. From version 0.12, the only valid positional argument will be `data`, and passing other arguments without an explicit keyword will result in an error or misinterpretation.\n",
            "  FutureWarning\n"
          ],
          "name": "stderr"
        },
        {
          "output_type": "execute_result",
          "data": {
            "text/plain": [
              "<matplotlib.axes._subplots.AxesSubplot at 0x7f4900096f90>"
            ]
          },
          "metadata": {
            "tags": []
          },
          "execution_count": 37
        },
        {
          "output_type": "display_data",
          "data": {
            "image/png": "[encoded data removed]",
            "text/plain": [
              "<Figure size 432x288 with 1 Axes>"
            ]
          },
          "metadata": {
            "tags": [],
            "needs_background": "light"
          }
        }
      ]
    },
    {
      "cell_type": "code",
      "metadata": {
        "colab": {
          "base_uri": "https://localhost:8080/",
          "height": 412
        },
        "id": "sgPM4tu9-EYg",
        "outputId": "5b00628f-887d-4a88-c1d7-258c74975296"
      },
      "source": [
        "sns.lineplot(original['Date'], original['MEDICALE'])\n",
        "sns.lineplot(df_forecast['Date'], df_forecast['medicale'])\n",
        "sns.lineplot(df_forecast['Date'], real['MEDICALE'], color='r')"
      ],
      "execution_count": 38,
      "outputs": [
        {
          "output_type": "stream",
          "text": [
            "/usr/local/lib/python3.7/dist-packages/seaborn/_decorators.py:43: FutureWarning: Pass the following variables as keyword args: x, y. From version 0.12, the only valid positional argument will be `data`, and passing other arguments without an explicit keyword will result in an error or misinterpretation.\n",
            "  FutureWarning\n",
            "/usr/local/lib/python3.7/dist-packages/seaborn/_decorators.py:43: FutureWarning: Pass the following variables as keyword args: x, y. From version 0.12, the only valid positional argument will be `data`, and passing other arguments without an explicit keyword will result in an error or misinterpretation.\n",
            "  FutureWarning\n",
            "/usr/local/lib/python3.7/dist-packages/seaborn/_decorators.py:43: FutureWarning: Pass the following variables as keyword args: x, y. From version 0.12, the only valid positional argument will be `data`, and passing other arguments without an explicit keyword will result in an error or misinterpretation.\n",
            "  FutureWarning\n"
          ],
          "name": "stderr"
        },
        {
          "output_type": "execute_result",
          "data": {
            "text/plain": [
              "<matplotlib.axes._subplots.AxesSubplot at 0x7f490034a950>"
            ]
          },
          "metadata": {
            "tags": []
          },
          "execution_count": 38
        },
        {
          "output_type": "display_data",
          "data": {
            "image/png": "[encoded data removed]",
            "text/plain": [
              "<Figure size 432x288 with 1 Axes>"
            ]
          },
          "metadata": {
            "tags": [],
            "needs_background": "light"
          }
        }
      ]
    },
    {
      "cell_type": "code",
      "metadata": {
        "id": "9l9mtego7Ssv",
        "colab": {
          "base_uri": "https://localhost:8080/",
          "height": 412
        },
        "outputId": "7d33cfb1-4871-49fb-b35f-00079f5c2397"
      },
      "source": [
        "sns.lineplot(original['Date'], original['ORTHOPEDIE'])\n",
        "sns.lineplot(df_forecast['Date'], df_forecast['orthopedie'])\n",
        "sns.lineplot(df_forecast['Date'], real['ORTHOPEDIE'], color='r')"
      ],
      "execution_count": 39,
      "outputs": [
        {
          "output_type": "stream",
          "text": [
            "/usr/local/lib/python3.7/dist-packages/seaborn/_decorators.py:43: FutureWarning: Pass the following variables as keyword args: x, y. From version 0.12, the only valid positional argument will be `data`, and passing other arguments without an explicit keyword will result in an error or misinterpretation.\n",
            "  FutureWarning\n",
            "/usr/local/lib/python3.7/dist-packages/seaborn/_decorators.py:43: FutureWarning: Pass the following variables as keyword args: x, y. From version 0.12, the only valid positional argument will be `data`, and passing other arguments without an explicit keyword will result in an error or misinterpretation.\n",
            "  FutureWarning\n",
            "/usr/local/lib/python3.7/dist-packages/seaborn/_decorators.py:43: FutureWarning: Pass the following variables as keyword args: x, y. From version 0.12, the only valid positional argument will be `data`, and passing other arguments without an explicit keyword will result in an error or misinterpretation.\n",
            "  FutureWarning\n"
          ],
          "name": "stderr"
        },
        {
          "output_type": "execute_result",
          "data": {
            "text/plain": [
              "<matplotlib.axes._subplots.AxesSubplot at 0x7f48ff702310>"
            ]
          },
          "metadata": {
            "tags": []
          },
          "execution_count": 39
        },
        {
          "output_type": "display_data",
          "data": {
            "image/png": "[encoded data removed]",
            "text/plain": [
              "<Figure size 432x288 with 1 Axes>"
            ]
          },
          "metadata": {
            "tags": [],
            "needs_background": "light"
          }
        }
      ]
    },
    {
      "cell_type": "code",
      "metadata": {
        "id": "DDr3MtOf8M_Y"
      },
      "source": [
        ""
      ],
      "execution_count": null,
      "outputs": []
    }
  ]
}