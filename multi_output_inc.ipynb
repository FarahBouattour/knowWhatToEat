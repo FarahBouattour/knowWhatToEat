{
  "nbformat": 4,
  "nbformat_minor": 0,
  "metadata": {
    "colab": {
      "name": "Try just 3 flow .ipynb",
      "provenance": [],
      "authorship_tag": "ABX9TyNSwN59VzqUuCH8y8+SETgO",
      "include_colab_link": true
    },
    "kernelspec": {
      "display_name": "Python 3",
      "name": "python3"
    },
    "language_info": {
      "name": "python"
    },
    "accelerator": "GPU"
  },
  "cells": [
    {
      "cell_type": "markdown",
      "metadata": {
        "id": "view-in-github",
        "colab_type": "text"
      },
      "source": [
        "<a href=\"https://colab.research.google.com/github/FarahBouattour/knowWhatToEat/blob/main/multi_output_inc.ipynb\" target=\"_parent\"><img src=\"https://colab.research.google.com/assets/colab-badge.svg\" alt=\"Open In Colab\"/></a>"
      ]
    },
    {
      "cell_type": "code",
      "metadata": {
        "colab": {
          "base_uri": "https://localhost:8080/"
        },
        "id": "mJepqKiS6KrJ",
        "outputId": "b39d1adc-75f4-4518-b83e-687c8d361716"
      },
      "source": [
        "import tensorflow as tf\n",
        "import numpy as np\n",
        "import matplotlib.pyplot as plt\n",
        "import pandas as pd\n",
        "import seaborn as sns\n",
        "from sklearn.utils import shuffle\n",
        "print(tf.__version__)"
      ],
      "execution_count": 18,
      "outputs": [
        {
          "output_type": "stream",
          "text": [
            "2.5.0\n"
          ],
          "name": "stdout"
        }
      ]
    },
    {
      "cell_type": "code",
      "metadata": {
        "colab": {
          "base_uri": "https://localhost:8080/"
        },
        "id": "NEjXGvus51_K",
        "outputId": "24084271-bbf2-41db-91bd-9f31926f68f1"
      },
      "source": [
        "from sklearn.preprocessing import MinMaxScaler\n",
        "\n",
        "d21 = pd.read_csv('test_data_pca_dt_covid_fi.csv')\n",
        "d20 = pd.read_csv('data_pca_dt_covid_fi.csv')\n",
        "# 2019 - 2020\n",
        "#d20 = d20.iloc[1461:,:]\n",
        "d20 = d20.iloc[1826:,:]\n",
        "d21_train = d21.iloc[:100,:]\n",
        "d21_test = d21.iloc[100:,:]\n",
        "df = pd.concat([d20,d21_train], ignore_index=True)\n",
        "\n",
        "#Separate dates for future plotting\n",
        "train_dates = pd.to_datetime(df['Date'])\n",
        "\n",
        "#Variables for training \n",
        "cols = list(df)[2:5]\n",
        "df_for_training = df[cols].astype(float)\n",
        "\n",
        "training_data = df_for_training.to_numpy()\n",
        "\n",
        "\n",
        "trainX = []\n",
        "trainY = []\n",
        "\n",
        "n_future = 1   # Number of days we want to predict into the future\n",
        "window_size = 7    # Number of past days we want to use to predict the future\n",
        "\n",
        "for i in range(window_size, len(df_for_training) - n_future +1):\n",
        "    trainX.append(training_data[i - window_size:i, :df_for_training.shape[1]])\n",
        "    trainY.append(training_data[i + n_future - 1:i + n_future, :4])\n",
        "\n",
        "\n",
        "trainX, trainY = np.array(trainX), np.array(trainY)\n",
        "trainY = np.squeeze(trainY)\n",
        "\n",
        "#trainX, trainY = shuffle(trainX, trainY, random_state=42)\n",
        "\n",
        "print('trainX shape == {}.'.format(trainX.shape))\n",
        "print('trainY shape == {}.'.format(trainY.shape))\n"
      ],
      "execution_count": 21,
      "outputs": [
        {
          "output_type": "stream",
          "text": [
            "trainX shape == (459, 7, 3).\n",
            "trainY shape == (459, 3).\n"
          ],
          "name": "stdout"
        }
      ]
    },
    {
      "cell_type": "code",
      "metadata": {
        "colab": {
          "base_uri": "https://localhost:8080/"
        },
        "id": "rBIJEAn56MW7",
        "outputId": "250d7d1e-716a-4893-f317-972af45ed2d9"
      },
      "source": [
        "model = tf.keras.models.Sequential([\n",
        "  tf.keras.layers.Conv1D(filters=64, kernel_size=5, strides=1, \n",
        "                         padding=\"causal\", \n",
        "                         activation=\"relu\", \n",
        "                         input_shape=(trainX.shape[1], trainX.shape[2])),\n",
        "  tf.keras.layers.LSTM(64, return_sequences=True),\n",
        "  tf.keras.layers.SimpleRNN(512, return_sequences=False),\n",
        "  tf.keras.layers.Dense(90, activation=\"relu\"),\n",
        "  #tf.keras.layers.Dropout(0.3),\n",
        "  tf.keras.layers.Dense(30, activation=\"relu\"),\n",
        "  tf.keras.layers.Dense(trainY.shape[1]),\n",
        "  tf.keras.layers.Lambda(lambda x: x * 100)\n",
        "])\n",
        "\n",
        "lr_schedule = tf.keras.callbacks.LearningRateScheduler(\n",
        "    lambda epoch: 1e-8 * 10**(epoch / 20))\n",
        "optimizer = tf.keras.optimizers.SGD(learning_rate=1e-4, momentum=0.9)\n",
        "model.compile(loss=tf.keras.losses.Huber(),\n",
        "              optimizer=optimizer,\n",
        "              metrics=[\"mae\", \"mape\"])\n",
        "\n",
        "history = model.fit(trainX, trainY, epochs=65, batch_size=32,\n",
        "                    validation_split=0.3, verbose=1,\n",
        "                    callbacks=[lr_schedule])"
      ],
      "execution_count": 22,
      "outputs": [
        {
          "output_type": "stream",
          "text": [
            "Epoch 1/65\n",
            "11/11 [==============================] - 3s 92ms/step - loss: 83.7771 - mae: 84.2771 - mape: 129.7216 - val_loss: 74.3197 - val_mae: 74.8197 - val_mape: 129.1050\n",
            "Epoch 2/65\n",
            "11/11 [==============================] - 0s 38ms/step - loss: 83.5716 - mae: 84.0716 - mape: 129.2928 - val_loss: 73.9906 - val_mae: 74.4906 - val_mape: 128.4330\n",
            "Epoch 3/65\n",
            "11/11 [==============================] - 0s 37ms/step - loss: 83.2602 - mae: 83.7602 - mape: 128.6736 - val_loss: 73.5883 - val_mae: 74.0883 - val_mape: 127.6160\n",
            "Epoch 4/65\n",
            "11/11 [==============================] - 0s 38ms/step - loss: 82.8956 - mae: 83.3956 - mape: 127.9313 - val_loss: 73.1230 - val_mae: 73.6230 - val_mape: 126.6695\n",
            "Epoch 5/65\n",
            "11/11 [==============================] - 0s 36ms/step - loss: 82.4605 - mae: 82.9605 - mape: 127.0608 - val_loss: 72.5977 - val_mae: 73.0977 - val_mape: 125.6100\n",
            "Epoch 6/65\n",
            "11/11 [==============================] - 0s 36ms/step - loss: 81.9874 - mae: 82.4874 - mape: 126.1064 - val_loss: 72.0081 - val_mae: 72.5081 - val_mape: 124.4241\n",
            "Epoch 7/65\n",
            "11/11 [==============================] - 0s 37ms/step - loss: 81.4462 - mae: 81.9459 - mape: 125.0245 - val_loss: 71.3680 - val_mae: 71.8680 - val_mape: 123.1411\n",
            "Epoch 8/65\n",
            "11/11 [==============================] - 0s 36ms/step - loss: 80.8479 - mae: 81.3477 - mape: 123.8208 - val_loss: 70.6251 - val_mae: 71.1251 - val_mape: 121.6406\n",
            "Epoch 9/65\n",
            "11/11 [==============================] - 0s 38ms/step - loss: 80.1422 - mae: 80.6422 - mape: 122.4257 - val_loss: 69.7621 - val_mae: 70.2621 - val_mape: 119.9013\n",
            "Epoch 10/65\n",
            "11/11 [==============================] - 0s 37ms/step - loss: 79.3497 - mae: 79.8496 - mape: 120.7909 - val_loss: 68.8336 - val_mae: 69.3336 - val_mape: 118.0356\n",
            "Epoch 11/65\n",
            "11/11 [==============================] - 0s 36ms/step - loss: 78.4576 - mae: 78.9575 - mape: 118.9576 - val_loss: 67.7541 - val_mae: 68.2541 - val_mape: 115.8671\n",
            "Epoch 12/65\n",
            "11/11 [==============================] - 0s 37ms/step - loss: 77.4069 - mae: 77.9066 - mape: 116.8681 - val_loss: 66.4828 - val_mae: 66.9828 - val_mape: 113.3083\n",
            "Epoch 13/65\n",
            "11/11 [==============================] - 0s 36ms/step - loss: 76.1644 - mae: 76.6638 - mape: 114.3922 - val_loss: 65.0270 - val_mae: 65.5270 - val_mape: 110.3729\n",
            "Epoch 14/65\n",
            "11/11 [==============================] - 0s 40ms/step - loss: 74.7369 - mae: 75.2364 - mape: 111.4939 - val_loss: 63.2869 - val_mae: 63.7869 - val_mape: 106.8529\n",
            "Epoch 15/65\n",
            "11/11 [==============================] - 0s 37ms/step - loss: 73.1176 - mae: 73.6171 - mape: 108.1528 - val_loss: 61.4269 - val_mae: 61.9269 - val_mape: 103.0484\n",
            "Epoch 16/65\n",
            "11/11 [==============================] - 0s 34ms/step - loss: 71.3203 - mae: 71.8197 - mape: 104.3999 - val_loss: 59.2134 - val_mae: 59.7134 - val_mape: 98.5260\n",
            "Epoch 17/65\n",
            "11/11 [==============================] - 0s 36ms/step - loss: 69.3013 - mae: 69.8012 - mape: 100.0908 - val_loss: 56.6715 - val_mae: 57.1713 - val_mape: 93.2882\n",
            "Epoch 18/65\n",
            "11/11 [==============================] - 0s 35ms/step - loss: 67.0375 - mae: 67.5364 - mape: 95.3468 - val_loss: 53.9864 - val_mae: 54.4863 - val_mape: 87.7676\n",
            "Epoch 19/65\n",
            "11/11 [==============================] - 0s 38ms/step - loss: 64.6250 - mae: 65.1237 - mape: 90.3323 - val_loss: 51.0861 - val_mae: 51.5856 - val_mape: 81.7858\n",
            "Epoch 20/65\n",
            "11/11 [==============================] - 0s 37ms/step - loss: 61.8339 - mae: 62.3335 - mape: 84.9861 - val_loss: 47.8581 - val_mae: 48.3563 - val_mape: 75.2625\n",
            "Epoch 21/65\n",
            "11/11 [==============================] - 0s 36ms/step - loss: 59.0603 - mae: 59.5593 - mape: 79.9705 - val_loss: 44.7617 - val_mae: 45.2615 - val_mape: 69.3333\n",
            "Epoch 22/65\n",
            "11/11 [==============================] - 0s 39ms/step - loss: 56.2675 - mae: 56.7661 - mape: 75.5427 - val_loss: 41.5356 - val_mae: 42.0353 - val_mape: 63.5620\n",
            "Epoch 23/65\n",
            "11/11 [==============================] - 0s 36ms/step - loss: 53.2437 - mae: 53.7403 - mape: 71.2777 - val_loss: 38.1090 - val_mae: 38.6087 - val_mape: 57.7621\n",
            "Epoch 24/65\n",
            "11/11 [==============================] - 0s 37ms/step - loss: 49.9620 - mae: 50.4602 - mape: 67.2904 - val_loss: 34.2547 - val_mae: 34.7538 - val_mape: 51.6545\n",
            "Epoch 25/65\n",
            "11/11 [==============================] - 0s 36ms/step - loss: 46.2276 - mae: 46.7248 - mape: 63.2839 - val_loss: 29.9511 - val_mae: 30.4453 - val_mape: 45.0903\n",
            "Epoch 26/65\n",
            "11/11 [==============================] - 0s 36ms/step - loss: 42.2470 - mae: 42.7443 - mape: 59.6198 - val_loss: 25.4658 - val_mae: 25.9609 - val_mape: 38.6333\n",
            "Epoch 27/65\n",
            "11/11 [==============================] - 0s 39ms/step - loss: 38.3408 - mae: 38.8353 - mape: 56.6907 - val_loss: 21.3807 - val_mae: 21.8739 - val_mape: 33.6289\n",
            "Epoch 28/65\n",
            "11/11 [==============================] - 0s 39ms/step - loss: 34.7777 - mae: 35.2733 - mape: 55.1756 - val_loss: 18.1586 - val_mae: 18.6521 - val_mape: 30.8516\n",
            "Epoch 29/65\n",
            "11/11 [==============================] - 0s 37ms/step - loss: 31.6398 - mae: 32.1365 - mape: 55.6743 - val_loss: 16.5302 - val_mae: 17.0258 - val_mape: 30.6683\n",
            "Epoch 30/65\n",
            "11/11 [==============================] - 0s 36ms/step - loss: 29.3699 - mae: 29.8647 - mape: 56.4858 - val_loss: 16.0674 - val_mae: 16.5607 - val_mape: 31.9860\n",
            "Epoch 31/65\n",
            "11/11 [==============================] - 0s 37ms/step - loss: 28.3110 - mae: 28.8080 - mape: 59.1247 - val_loss: 16.0602 - val_mae: 16.5518 - val_mape: 33.1194\n",
            "Epoch 32/65\n",
            "11/11 [==============================] - 0s 36ms/step - loss: 27.4762 - mae: 27.9710 - mape: 60.5720 - val_loss: 16.3869 - val_mae: 16.8806 - val_mape: 34.4299\n",
            "Epoch 33/65\n",
            "11/11 [==============================] - 0s 39ms/step - loss: 26.9228 - mae: 27.4186 - mape: 61.1314 - val_loss: 16.2916 - val_mae: 16.7820 - val_mape: 34.2140\n",
            "Epoch 34/65\n",
            "11/11 [==============================] - 0s 38ms/step - loss: 26.4123 - mae: 26.9071 - mape: 61.5068 - val_loss: 16.6437 - val_mae: 17.1391 - val_mape: 35.2020\n",
            "Epoch 35/65\n",
            "11/11 [==============================] - 0s 38ms/step - loss: 25.9474 - mae: 26.4415 - mape: 61.4325 - val_loss: 16.2066 - val_mae: 16.7000 - val_mape: 34.1013\n",
            "Epoch 36/65\n",
            "11/11 [==============================] - 0s 39ms/step - loss: 25.5088 - mae: 26.0031 - mape: 60.8195 - val_loss: 16.2118 - val_mae: 16.7026 - val_mape: 34.1164\n",
            "Epoch 37/65\n",
            "11/11 [==============================] - 0s 36ms/step - loss: 25.0524 - mae: 25.5485 - mape: 60.7565 - val_loss: 16.2566 - val_mae: 16.7494 - val_mape: 34.4318\n",
            "Epoch 38/65\n",
            "11/11 [==============================] - 0s 36ms/step - loss: 24.6030 - mae: 25.0985 - mape: 60.3371 - val_loss: 16.0491 - val_mae: 16.5431 - val_mape: 33.5401\n",
            "Epoch 39/65\n",
            "11/11 [==============================] - 0s 38ms/step - loss: 24.1267 - mae: 24.6209 - mape: 59.5495 - val_loss: 16.3885 - val_mae: 16.8860 - val_mape: 34.0817\n",
            "Epoch 40/65\n",
            "11/11 [==============================] - 0s 37ms/step - loss: 23.6977 - mae: 24.1932 - mape: 60.5573 - val_loss: 16.8802 - val_mae: 17.3757 - val_mape: 35.1847\n",
            "Epoch 41/65\n",
            "11/11 [==============================] - 0s 43ms/step - loss: 23.0344 - mae: 23.5296 - mape: 57.9316 - val_loss: 15.1999 - val_mae: 15.6949 - val_mape: 30.7220\n",
            "Epoch 42/65\n",
            "11/11 [==============================] - 0s 36ms/step - loss: 22.2059 - mae: 22.6997 - mape: 56.5087 - val_loss: 16.8187 - val_mae: 17.3137 - val_mape: 34.7915\n",
            "Epoch 43/65\n",
            "11/11 [==============================] - 0s 37ms/step - loss: 21.7022 - mae: 22.1973 - mape: 59.0750 - val_loss: 16.2637 - val_mae: 16.7555 - val_mape: 33.5858\n",
            "Epoch 44/65\n",
            "11/11 [==============================] - 0s 37ms/step - loss: 20.9768 - mae: 21.4703 - mape: 54.9827 - val_loss: 15.2473 - val_mae: 15.7386 - val_mape: 30.9492\n",
            "Epoch 45/65\n",
            "11/11 [==============================] - 0s 36ms/step - loss: 20.4074 - mae: 20.9006 - mape: 55.0174 - val_loss: 15.8706 - val_mae: 16.3652 - val_mape: 32.8134\n",
            "Epoch 46/65\n",
            "11/11 [==============================] - 0s 40ms/step - loss: 19.8400 - mae: 20.3323 - mape: 51.5551 - val_loss: 15.4545 - val_mae: 15.9505 - val_mape: 31.1787\n",
            "Epoch 47/65\n",
            "11/11 [==============================] - 0s 38ms/step - loss: 19.7866 - mae: 20.2806 - mape: 54.5408 - val_loss: 15.2181 - val_mae: 15.7130 - val_mape: 30.3867\n",
            "Epoch 48/65\n",
            "11/11 [==============================] - 0s 36ms/step - loss: 19.9897 - mae: 20.4855 - mape: 46.4467 - val_loss: 14.6063 - val_mae: 15.1021 - val_mape: 30.4171\n",
            "Epoch 49/65\n",
            "11/11 [==============================] - 0s 37ms/step - loss: 19.3632 - mae: 19.8591 - mape: 50.9341 - val_loss: 14.5660 - val_mae: 15.0591 - val_mape: 30.1237\n",
            "Epoch 50/65\n",
            "11/11 [==============================] - 0s 37ms/step - loss: 18.1871 - mae: 18.6812 - mape: 46.8080 - val_loss: 13.6109 - val_mae: 14.1042 - val_mape: 27.1585\n",
            "Epoch 51/65\n",
            "11/11 [==============================] - 0s 38ms/step - loss: 18.8888 - mae: 19.3831 - mape: 41.0171 - val_loss: 18.2996 - val_mae: 18.7937 - val_mape: 38.9986\n",
            "Epoch 52/65\n",
            "11/11 [==============================] - 0s 41ms/step - loss: 20.3474 - mae: 20.8439 - mape: 57.4210 - val_loss: 13.1553 - val_mae: 13.6481 - val_mape: 25.2255\n",
            "Epoch 53/65\n",
            "11/11 [==============================] - 0s 36ms/step - loss: 17.8638 - mae: 18.3568 - mape: 45.7983 - val_loss: 14.3967 - val_mae: 14.8893 - val_mape: 29.3678\n",
            "Epoch 54/65\n",
            "11/11 [==============================] - 0s 38ms/step - loss: 16.4662 - mae: 16.9580 - mape: 39.8128 - val_loss: 13.0802 - val_mae: 13.5749 - val_mape: 26.2100\n",
            "Epoch 55/65\n",
            "11/11 [==============================] - 0s 38ms/step - loss: 16.1937 - mae: 16.6880 - mape: 42.1339 - val_loss: 13.3361 - val_mae: 13.8246 - val_mape: 27.1679\n",
            "Epoch 56/65\n",
            "11/11 [==============================] - 0s 40ms/step - loss: 15.5133 - mae: 16.0047 - mape: 40.0840 - val_loss: 13.3483 - val_mae: 13.8425 - val_mape: 26.9515\n",
            "Epoch 57/65\n",
            "11/11 [==============================] - 0s 38ms/step - loss: 15.1209 - mae: 15.6125 - mape: 37.8088 - val_loss: 12.8205 - val_mae: 13.3059 - val_mape: 25.2565\n",
            "Epoch 58/65\n",
            "11/11 [==============================] - 0s 40ms/step - loss: 15.2005 - mae: 15.6943 - mape: 37.2794 - val_loss: 12.2524 - val_mae: 12.7429 - val_mape: 23.1752\n",
            "Epoch 59/65\n",
            "11/11 [==============================] - 0s 39ms/step - loss: 14.9760 - mae: 15.4690 - mape: 36.4618 - val_loss: 12.3662 - val_mae: 12.8569 - val_mape: 23.3550\n",
            "Epoch 60/65\n",
            "11/11 [==============================] - 0s 38ms/step - loss: 15.0578 - mae: 15.5505 - mape: 35.8794 - val_loss: 12.0239 - val_mae: 12.5157 - val_mape: 23.9683\n",
            "Epoch 61/65\n",
            "11/11 [==============================] - 0s 40ms/step - loss: 15.0001 - mae: 15.4919 - mape: 37.1199 - val_loss: 14.7173 - val_mae: 15.2114 - val_mape: 24.7486\n",
            "Epoch 62/65\n",
            "11/11 [==============================] - 0s 37ms/step - loss: 18.0396 - mae: 18.5335 - mape: 49.3861 - val_loss: 13.0006 - val_mae: 13.4898 - val_mape: 22.5831\n",
            "Epoch 63/65\n",
            "11/11 [==============================] - 0s 40ms/step - loss: 15.9340 - mae: 16.4247 - mape: 39.6221 - val_loss: 14.4065 - val_mae: 14.8978 - val_mape: 28.0927\n",
            "Epoch 64/65\n",
            "11/11 [==============================] - 0s 37ms/step - loss: 17.1586 - mae: 17.6499 - mape: 43.0336 - val_loss: 12.9902 - val_mae: 13.4859 - val_mape: 25.5570\n",
            "Epoch 65/65\n",
            "11/11 [==============================] - 0s 39ms/step - loss: 16.9545 - mae: 17.4430 - mape: 38.7232 - val_loss: 12.8131 - val_mae: 13.3063 - val_mape: 23.2159\n"
          ],
          "name": "stdout"
        }
      ]
    },
    {
      "cell_type": "code",
      "metadata": {
        "colab": {
          "base_uri": "https://localhost:8080/",
          "height": 281
        },
        "id": "9J6BXVVuhf9Y",
        "outputId": "20022604-7575-4723-e1e7-9654844087d2"
      },
      "source": [
        "plt.plot(history.history['loss'], label='Training loss')\n",
        "plt.plot(history.history['val_loss'], label='Validation loss')\n",
        "plt.legend()"
      ],
      "execution_count": 23,
      "outputs": [
        {
          "output_type": "execute_result",
          "data": {
            "text/plain": [
              "<matplotlib.legend.Legend at 0x7f49057b5110>"
            ]
          },
          "metadata": {
            "tags": []
          },
          "execution_count": 23
        },
        {
          "output_type": "display_data",
          "data": {
            "image/png": "[encoded data removed]",
            "text/plain": [
              "<Figure size 432x288 with 1 Axes>"
            ]
          },
          "metadata": {
            "tags": [],
            "needs_background": "light"
          }
        }
      ]
    },
    {
      "cell_type": "code",
      "metadata": {
        "colab": {
          "base_uri": "https://localhost:8080/"
        },
        "id": "eBKFihcNppJB",
        "outputId": "a64386f1-1437-4ac7-dd19-80058fba351d"
      },
      "source": [
        "forecast_period = d21_test.shape[0]  \n",
        "forecast_period_dates = pd.date_range(list(train_dates)[-1], periods=forecast_period, freq='1d').tolist()\n",
        "\n",
        "forecast = model.predict(trainX[-n_future:]) #(1,31,10) shape of trainX[-n_future]\n",
        "forecast"
      ],
      "execution_count": 24,
      "outputs": [
        {
          "output_type": "execute_result",
          "data": {
            "text/plain": [
              "array([[43.744576, 90.00222 , 67.45113 ]], dtype=float32)"
            ]
          },
          "metadata": {
            "tags": []
          },
          "execution_count": 24
        }
      ]
    },
    {
      "cell_type": "code",
      "metadata": {
        "colab": {
          "base_uri": "https://localhost:8080/"
        },
        "id": "gLJuLMGQEVHM",
        "outputId": "012a48ca-5125-42cd-8c06-8978e1c9faa9"
      },
      "source": [
        "result = np.zeros((31, 3))\n",
        "#result[0] = scaler.inverse_transform(forecast)[:,:4][0]\n",
        "result[0] = [abs(int(i)) for i in forecast[:,:4][0]]\n",
        "trainX[-1][-1][:3] = trainY[-1]\n",
        "\n",
        "for i in range(30):\n",
        "  y_pred_row = forecast\n",
        "  row = list(y_pred_row[0])\n",
        "  test = np.zeros((1, window_size, 3))\n",
        "  test[0][:window_size - 1] = trainX[-1:][0][1:]\n",
        "  test[0][window_size - 1] = row\n",
        "  trainX = test\n",
        "  forecast = model.predict(trainX)\n",
        "  #print(forecast)\n",
        "  #result[i] = scaler.inverse_transform(forecast)[:,:4][0]\n",
        "  result[i+1] = [abs(int(i)) for i in forecast[:,:4][0]]\n",
        "\n",
        "result"
      ],
      "execution_count": 25,
      "outputs": [
        {
          "output_type": "execute_result",
          "data": {
            "text/plain": [
              "array([[ 43.,  90.,  67.],\n",
              "       [ 46.,  92.,  70.],\n",
              "       [ 45., 127.,  92.],\n",
              "       [ 41.,  78.,  63.],\n",
              "       [ 50., 101.,  72.],\n",
              "       [ 54.,  94.,  71.],\n",
              "       [ 52.,  80.,  60.],\n",
              "       [ 52.,  94.,  69.],\n",
              "       [ 47.,  92.,  76.],\n",
              "       [ 41., 128.,  83.],\n",
              "       [ 51.,  92.,  64.],\n",
              "       [ 55., 112.,  75.],\n",
              "       [ 56., 107.,  70.],\n",
              "       [ 58., 102.,  69.],\n",
              "       [ 56., 112.,  78.],\n",
              "       [ 54., 112.,  75.],\n",
              "       [ 52., 153.,  89.],\n",
              "       [ 59., 119.,  75.],\n",
              "       [ 58., 145.,  85.],\n",
              "       [ 64., 145.,  86.],\n",
              "       [ 63., 143.,  82.],\n",
              "       [ 58., 145.,  88.],\n",
              "       [ 66., 154.,  89.],\n",
              "       [ 63., 183., 102.],\n",
              "       [ 67., 159.,  92.],\n",
              "       [ 67., 182., 101.],\n",
              "       [ 68., 182., 101.],\n",
              "       [ 68., 180., 100.],\n",
              "       [ 68., 178., 102.],\n",
              "       [ 69., 184., 102.],\n",
              "       [ 69., 196., 108.]])"
            ]
          },
          "metadata": {
            "tags": []
          },
          "execution_count": 25
        }
      ]
    },
    {
      "cell_type": "code",
      "metadata": {
        "colab": {
          "base_uri": "https://localhost:8080/",
          "height": 1000
        },
        "id": "aO9vDQPe7M2C",
        "outputId": "422126db-c049-4851-ca9c-1fe75ba6b9ff"
      },
      "source": [
        "# Convert timestamp to date\n",
        "forecast_dates = []\n",
        "for time_i in forecast_period_dates:\n",
        "    forecast_dates.append(time_i.date())\n",
        "    \n",
        "df_forecast = pd.DataFrame({'Date':np.array(forecast_dates[:31]), \n",
        "                            'chirurgie':result[:,0],\n",
        "                            'medicale':result[:,1],\n",
        "                            'orthopedie':result[:,2]})\n",
        "                            #'flux_journalier':result.sum(axis=1)})\n",
        "df_forecast['Date']=pd.to_datetime(df_forecast['Date'])\n",
        "\n",
        "cols = list(df)[:5]\n",
        "original = df[cols]\n",
        "original['Date']=pd.to_datetime(original['Date'])\n",
        "original = original.loc[original['Date'] >= '2021-03-1']\n",
        "\n",
        "#the real data that we predict\n",
        "real = d21_test\n",
        "real = real.iloc[:31,2:5].reset_index()\n",
        "\n",
        "real.reset_index()\n",
        "results = pd.concat([df_forecast, real], axis=1)\n",
        "results"
      ],
      "execution_count": 26,
      "outputs": [
        {
          "output_type": "stream",
          "text": [
            "/usr/local/lib/python3.7/dist-packages/ipykernel_launcher.py:15: SettingWithCopyWarning: \n",
            "A value is trying to be set on a copy of a slice from a DataFrame.\n",
            "Try using .loc[row_indexer,col_indexer] = value instead\n",
            "\n",
            "See the caveats in the documentation: https://pandas.pydata.org/pandas-docs/stable/user_guide/indexing.html#returning-a-view-versus-a-copy\n",
            "  from ipykernel import kernelapp as app\n"
          ],
          "name": "stderr"
        },
        {
          "output_type": "execute_result",
          "data": {
            "text/html": [
              "<div>\n",
              "<style scoped>\n",
              "    .dataframe tbody tr th:only-of-type {\n",
              "        vertical-align: middle;\n",
              "    }\n",
              "\n",
              "    .dataframe tbody tr th {\n",
              "        vertical-align: top;\n",
              "    }\n",
              "\n",
              "    .dataframe thead th {\n",
              "        text-align: right;\n",
              "    }\n",
              "</style>\n",
              "<table border=\"1\" class=\"dataframe\">\n",
              "  <thead>\n",
              "    <tr style=\"text-align: right;\">\n",
              "      <th></th>\n",
              "      <th>Date</th>\n",
              "      <th>chirurgie</th>\n",
              "      <th>medicale</th>\n",
              "      <th>orthopedie</th>\n",
              "      <th>index</th>\n",
              "      <th>CHIRURGIE</th>\n",
              "      <th>MEDICALE</th>\n",
              "      <th>ORTHOPEDIE</th>\n",
              "    </tr>\n",
              "  </thead>\n",
              "  <tbody>\n",
              "    <tr>\n",
              "      <th>0</th>\n",
              "      <td>2021-04-10</td>\n",
              "      <td>43.0</td>\n",
              "      <td>90.0</td>\n",
              "      <td>67.0</td>\n",
              "      <td>100</td>\n",
              "      <td>27.0</td>\n",
              "      <td>39.0</td>\n",
              "      <td>87.0</td>\n",
              "    </tr>\n",
              "    <tr>\n",
              "      <th>1</th>\n",
              "      <td>2021-04-11</td>\n",
              "      <td>46.0</td>\n",
              "      <td>92.0</td>\n",
              "      <td>70.0</td>\n",
              "      <td>101</td>\n",
              "      <td>67.0</td>\n",
              "      <td>108.0</td>\n",
              "      <td>70.0</td>\n",
              "    </tr>\n",
              "    <tr>\n",
              "      <th>2</th>\n",
              "      <td>2021-04-12</td>\n",
              "      <td>45.0</td>\n",
              "      <td>127.0</td>\n",
              "      <td>92.0</td>\n",
              "      <td>102</td>\n",
              "      <td>51.0</td>\n",
              "      <td>69.0</td>\n",
              "      <td>61.0</td>\n",
              "    </tr>\n",
              "    <tr>\n",
              "      <th>3</th>\n",
              "      <td>2021-04-13</td>\n",
              "      <td>41.0</td>\n",
              "      <td>78.0</td>\n",
              "      <td>63.0</td>\n",
              "      <td>103</td>\n",
              "      <td>43.0</td>\n",
              "      <td>76.0</td>\n",
              "      <td>78.0</td>\n",
              "    </tr>\n",
              "    <tr>\n",
              "      <th>4</th>\n",
              "      <td>2021-04-14</td>\n",
              "      <td>50.0</td>\n",
              "      <td>101.0</td>\n",
              "      <td>72.0</td>\n",
              "      <td>104</td>\n",
              "      <td>40.0</td>\n",
              "      <td>87.0</td>\n",
              "      <td>77.0</td>\n",
              "    </tr>\n",
              "    <tr>\n",
              "      <th>5</th>\n",
              "      <td>2021-04-15</td>\n",
              "      <td>54.0</td>\n",
              "      <td>94.0</td>\n",
              "      <td>71.0</td>\n",
              "      <td>105</td>\n",
              "      <td>36.0</td>\n",
              "      <td>77.0</td>\n",
              "      <td>69.0</td>\n",
              "    </tr>\n",
              "    <tr>\n",
              "      <th>6</th>\n",
              "      <td>2021-04-16</td>\n",
              "      <td>52.0</td>\n",
              "      <td>80.0</td>\n",
              "      <td>60.0</td>\n",
              "      <td>106</td>\n",
              "      <td>42.0</td>\n",
              "      <td>92.0</td>\n",
              "      <td>43.0</td>\n",
              "    </tr>\n",
              "    <tr>\n",
              "      <th>7</th>\n",
              "      <td>2021-04-17</td>\n",
              "      <td>52.0</td>\n",
              "      <td>94.0</td>\n",
              "      <td>69.0</td>\n",
              "      <td>107</td>\n",
              "      <td>17.0</td>\n",
              "      <td>53.0</td>\n",
              "      <td>41.0</td>\n",
              "    </tr>\n",
              "    <tr>\n",
              "      <th>8</th>\n",
              "      <td>2021-04-18</td>\n",
              "      <td>47.0</td>\n",
              "      <td>92.0</td>\n",
              "      <td>76.0</td>\n",
              "      <td>108</td>\n",
              "      <td>46.0</td>\n",
              "      <td>88.0</td>\n",
              "      <td>60.0</td>\n",
              "    </tr>\n",
              "    <tr>\n",
              "      <th>9</th>\n",
              "      <td>2021-04-19</td>\n",
              "      <td>41.0</td>\n",
              "      <td>128.0</td>\n",
              "      <td>83.0</td>\n",
              "      <td>109</td>\n",
              "      <td>41.0</td>\n",
              "      <td>77.0</td>\n",
              "      <td>71.0</td>\n",
              "    </tr>\n",
              "    <tr>\n",
              "      <th>10</th>\n",
              "      <td>2021-04-20</td>\n",
              "      <td>51.0</td>\n",
              "      <td>92.0</td>\n",
              "      <td>64.0</td>\n",
              "      <td>110</td>\n",
              "      <td>31.0</td>\n",
              "      <td>80.0</td>\n",
              "      <td>65.0</td>\n",
              "    </tr>\n",
              "    <tr>\n",
              "      <th>11</th>\n",
              "      <td>2021-04-21</td>\n",
              "      <td>55.0</td>\n",
              "      <td>112.0</td>\n",
              "      <td>75.0</td>\n",
              "      <td>111</td>\n",
              "      <td>38.0</td>\n",
              "      <td>82.0</td>\n",
              "      <td>48.0</td>\n",
              "    </tr>\n",
              "    <tr>\n",
              "      <th>12</th>\n",
              "      <td>2021-04-22</td>\n",
              "      <td>56.0</td>\n",
              "      <td>107.0</td>\n",
              "      <td>70.0</td>\n",
              "      <td>112</td>\n",
              "      <td>31.0</td>\n",
              "      <td>79.0</td>\n",
              "      <td>59.0</td>\n",
              "    </tr>\n",
              "    <tr>\n",
              "      <th>13</th>\n",
              "      <td>2021-04-23</td>\n",
              "      <td>58.0</td>\n",
              "      <td>102.0</td>\n",
              "      <td>69.0</td>\n",
              "      <td>113</td>\n",
              "      <td>28.0</td>\n",
              "      <td>58.0</td>\n",
              "      <td>48.0</td>\n",
              "    </tr>\n",
              "    <tr>\n",
              "      <th>14</th>\n",
              "      <td>2021-04-24</td>\n",
              "      <td>56.0</td>\n",
              "      <td>112.0</td>\n",
              "      <td>78.0</td>\n",
              "      <td>114</td>\n",
              "      <td>37.0</td>\n",
              "      <td>51.0</td>\n",
              "      <td>47.0</td>\n",
              "    </tr>\n",
              "    <tr>\n",
              "      <th>15</th>\n",
              "      <td>2021-04-25</td>\n",
              "      <td>54.0</td>\n",
              "      <td>112.0</td>\n",
              "      <td>75.0</td>\n",
              "      <td>115</td>\n",
              "      <td>40.0</td>\n",
              "      <td>61.0</td>\n",
              "      <td>68.0</td>\n",
              "    </tr>\n",
              "    <tr>\n",
              "      <th>16</th>\n",
              "      <td>2021-04-26</td>\n",
              "      <td>52.0</td>\n",
              "      <td>153.0</td>\n",
              "      <td>89.0</td>\n",
              "      <td>116</td>\n",
              "      <td>34.0</td>\n",
              "      <td>43.0</td>\n",
              "      <td>49.0</td>\n",
              "    </tr>\n",
              "    <tr>\n",
              "      <th>17</th>\n",
              "      <td>2021-04-27</td>\n",
              "      <td>59.0</td>\n",
              "      <td>119.0</td>\n",
              "      <td>75.0</td>\n",
              "      <td>117</td>\n",
              "      <td>45.0</td>\n",
              "      <td>47.0</td>\n",
              "      <td>67.0</td>\n",
              "    </tr>\n",
              "    <tr>\n",
              "      <th>18</th>\n",
              "      <td>2021-04-28</td>\n",
              "      <td>58.0</td>\n",
              "      <td>145.0</td>\n",
              "      <td>85.0</td>\n",
              "      <td>118</td>\n",
              "      <td>47.0</td>\n",
              "      <td>53.0</td>\n",
              "      <td>63.0</td>\n",
              "    </tr>\n",
              "    <tr>\n",
              "      <th>19</th>\n",
              "      <td>2021-04-29</td>\n",
              "      <td>64.0</td>\n",
              "      <td>145.0</td>\n",
              "      <td>86.0</td>\n",
              "      <td>119</td>\n",
              "      <td>35.0</td>\n",
              "      <td>46.0</td>\n",
              "      <td>64.0</td>\n",
              "    </tr>\n",
              "    <tr>\n",
              "      <th>20</th>\n",
              "      <td>2021-04-30</td>\n",
              "      <td>63.0</td>\n",
              "      <td>143.0</td>\n",
              "      <td>82.0</td>\n",
              "      <td>120</td>\n",
              "      <td>22.0</td>\n",
              "      <td>30.0</td>\n",
              "      <td>66.0</td>\n",
              "    </tr>\n",
              "    <tr>\n",
              "      <th>21</th>\n",
              "      <td>2021-05-01</td>\n",
              "      <td>58.0</td>\n",
              "      <td>145.0</td>\n",
              "      <td>88.0</td>\n",
              "      <td>121</td>\n",
              "      <td>34.0</td>\n",
              "      <td>34.0</td>\n",
              "      <td>37.0</td>\n",
              "    </tr>\n",
              "    <tr>\n",
              "      <th>22</th>\n",
              "      <td>2021-05-02</td>\n",
              "      <td>66.0</td>\n",
              "      <td>154.0</td>\n",
              "      <td>89.0</td>\n",
              "      <td>122</td>\n",
              "      <td>34.0</td>\n",
              "      <td>87.0</td>\n",
              "      <td>40.0</td>\n",
              "    </tr>\n",
              "    <tr>\n",
              "      <th>23</th>\n",
              "      <td>2021-05-03</td>\n",
              "      <td>63.0</td>\n",
              "      <td>183.0</td>\n",
              "      <td>102.0</td>\n",
              "      <td>123</td>\n",
              "      <td>42.0</td>\n",
              "      <td>67.0</td>\n",
              "      <td>53.0</td>\n",
              "    </tr>\n",
              "    <tr>\n",
              "      <th>24</th>\n",
              "      <td>2021-05-04</td>\n",
              "      <td>67.0</td>\n",
              "      <td>159.0</td>\n",
              "      <td>92.0</td>\n",
              "      <td>124</td>\n",
              "      <td>51.0</td>\n",
              "      <td>54.0</td>\n",
              "      <td>49.0</td>\n",
              "    </tr>\n",
              "    <tr>\n",
              "      <th>25</th>\n",
              "      <td>2021-05-05</td>\n",
              "      <td>67.0</td>\n",
              "      <td>182.0</td>\n",
              "      <td>101.0</td>\n",
              "      <td>125</td>\n",
              "      <td>34.0</td>\n",
              "      <td>76.0</td>\n",
              "      <td>53.0</td>\n",
              "    </tr>\n",
              "    <tr>\n",
              "      <th>26</th>\n",
              "      <td>2021-05-06</td>\n",
              "      <td>68.0</td>\n",
              "      <td>182.0</td>\n",
              "      <td>101.0</td>\n",
              "      <td>126</td>\n",
              "      <td>32.0</td>\n",
              "      <td>66.0</td>\n",
              "      <td>52.0</td>\n",
              "    </tr>\n",
              "    <tr>\n",
              "      <th>27</th>\n",
              "      <td>2021-05-07</td>\n",
              "      <td>68.0</td>\n",
              "      <td>180.0</td>\n",
              "      <td>100.0</td>\n",
              "      <td>127</td>\n",
              "      <td>23.0</td>\n",
              "      <td>61.0</td>\n",
              "      <td>58.0</td>\n",
              "    </tr>\n",
              "    <tr>\n",
              "      <th>28</th>\n",
              "      <td>2021-05-08</td>\n",
              "      <td>68.0</td>\n",
              "      <td>178.0</td>\n",
              "      <td>102.0</td>\n",
              "      <td>128</td>\n",
              "      <td>30.0</td>\n",
              "      <td>54.0</td>\n",
              "      <td>27.0</td>\n",
              "    </tr>\n",
              "    <tr>\n",
              "      <th>29</th>\n",
              "      <td>2021-05-09</td>\n",
              "      <td>69.0</td>\n",
              "      <td>184.0</td>\n",
              "      <td>102.0</td>\n",
              "      <td>129</td>\n",
              "      <td>22.0</td>\n",
              "      <td>93.0</td>\n",
              "      <td>60.0</td>\n",
              "    </tr>\n",
              "    <tr>\n",
              "      <th>30</th>\n",
              "      <td>2021-05-10</td>\n",
              "      <td>69.0</td>\n",
              "      <td>196.0</td>\n",
              "      <td>108.0</td>\n",
              "      <td>130</td>\n",
              "      <td>54.0</td>\n",
              "      <td>47.0</td>\n",
              "      <td>57.0</td>\n",
              "    </tr>\n",
              "  </tbody>\n",
              "</table>\n",
              "</div>"
            ],
            "text/plain": [
              "         Date  chirurgie  medicale  ...  CHIRURGIE  MEDICALE  ORTHOPEDIE\n",
              "0  2021-04-10       43.0      90.0  ...       27.0      39.0        87.0\n",
              "1  2021-04-11       46.0      92.0  ...       67.0     108.0        70.0\n",
              "2  2021-04-12       45.0     127.0  ...       51.0      69.0        61.0\n",
              "3  2021-04-13       41.0      78.0  ...       43.0      76.0        78.0\n",
              "4  2021-04-14       50.0     101.0  ...       40.0      87.0        77.0\n",
              "5  2021-04-15       54.0      94.0  ...       36.0      77.0        69.0\n",
              "6  2021-04-16       52.0      80.0  ...       42.0      92.0        43.0\n",
              "7  2021-04-17       52.0      94.0  ...       17.0      53.0        41.0\n",
              "8  2021-04-18       47.0      92.0  ...       46.0      88.0        60.0\n",
              "9  2021-04-19       41.0     128.0  ...       41.0      77.0        71.0\n",
              "10 2021-04-20       51.0      92.0  ...       31.0      80.0        65.0\n",
              "11 2021-04-21       55.0     112.0  ...       38.0      82.0        48.0\n",
              "12 2021-04-22       56.0     107.0  ...       31.0      79.0        59.0\n",
              "13 2021-04-23       58.0     102.0  ...       28.0      58.0        48.0\n",
              "14 2021-04-24       56.0     112.0  ...       37.0      51.0        47.0\n",
              "15 2021-04-25       54.0     112.0  ...       40.0      61.0        68.0\n",
              "16 2021-04-26       52.0     153.0  ...       34.0      43.0        49.0\n",
              "17 2021-04-27       59.0     119.0  ...       45.0      47.0        67.0\n",
              "18 2021-04-28       58.0     145.0  ...       47.0      53.0        63.0\n",
              "19 2021-04-29       64.0     145.0  ...       35.0      46.0        64.0\n",
              "20 2021-04-30       63.0     143.0  ...       22.0      30.0        66.0\n",
              "21 2021-05-01       58.0     145.0  ...       34.0      34.0        37.0\n",
              "22 2021-05-02       66.0     154.0  ...       34.0      87.0        40.0\n",
              "23 2021-05-03       63.0     183.0  ...       42.0      67.0        53.0\n",
              "24 2021-05-04       67.0     159.0  ...       51.0      54.0        49.0\n",
              "25 2021-05-05       67.0     182.0  ...       34.0      76.0        53.0\n",
              "26 2021-05-06       68.0     182.0  ...       32.0      66.0        52.0\n",
              "27 2021-05-07       68.0     180.0  ...       23.0      61.0        58.0\n",
              "28 2021-05-08       68.0     178.0  ...       30.0      54.0        27.0\n",
              "29 2021-05-09       69.0     184.0  ...       22.0      93.0        60.0\n",
              "30 2021-05-10       69.0     196.0  ...       54.0      47.0        57.0\n",
              "\n",
              "[31 rows x 8 columns]"
            ]
          },
          "metadata": {
            "tags": []
          },
          "execution_count": 26
        }
      ]
    },
    {
      "cell_type": "code",
      "metadata": {
        "colab": {
          "base_uri": "https://localhost:8080/",
          "height": 412
        },
        "id": "N-Sxh08U-Bub",
        "outputId": "65748822-05e0-459b-e26f-a7ed1d9f3417"
      },
      "source": [
        "sns.lineplot(original['Date'], original['CHIRURGIE'])\n",
        "sns.lineplot(df_forecast['Date'], df_forecast['chirurgie'])\n",
        "sns.lineplot(df_forecast['Date'], real['CHIRURGIE'], color='r')"
      ],
      "execution_count": 27,
      "outputs": [
        {
          "output_type": "stream",
          "text": [
            "/usr/local/lib/python3.7/dist-packages/seaborn/_decorators.py:43: FutureWarning: Pass the following variables as keyword args: x, y. From version 0.12, the only valid positional argument will be `data`, and passing other arguments without an explicit keyword will result in an error or misinterpretation.\n",
            "  FutureWarning\n",
            "/usr/local/lib/python3.7/dist-packages/seaborn/_decorators.py:43: FutureWarning: Pass the following variables as keyword args: x, y. From version 0.12, the only valid positional argument will be `data`, and passing other arguments without an explicit keyword will result in an error or misinterpretation.\n",
            "  FutureWarning\n",
            "/usr/local/lib/python3.7/dist-packages/seaborn/_decorators.py:43: FutureWarning: Pass the following variables as keyword args: x, y. From version 0.12, the only valid positional argument will be `data`, and passing other arguments without an explicit keyword will result in an error or misinterpretation.\n",
            "  FutureWarning\n"
          ],
          "name": "stderr"
        },
        {
          "output_type": "execute_result",
          "data": {
            "text/plain": [
              "<matplotlib.axes._subplots.AxesSubplot at 0x7f490559f890>"
            ]
          },
          "metadata": {
            "tags": []
          },
          "execution_count": 27
        },
        {
          "output_type": "display_data",
          "data": {
            "image/png": "[encoded data removed]",
            "text/plain": [
              "<Figure size 432x288 with 1 Axes>"
            ]
          },
          "metadata": {
            "tags": [],
            "needs_background": "light"
          }
        }
      ]
    },
    {
      "cell_type": "code",
      "metadata": {
        "colab": {
          "base_uri": "https://localhost:8080/",
          "height": 412
        },
        "id": "sgPM4tu9-EYg",
        "outputId": "f295ef9d-709c-4680-a93e-afb30c128e04"
      },
      "source": [
        "sns.lineplot(original['Date'], original['MEDICALE'])\n",
        "sns.lineplot(df_forecast['Date'], df_forecast['medicale'])\n",
        "sns.lineplot(df_forecast['Date'], real['MEDICALE'], color='r')"
      ],
      "execution_count": 28,
      "outputs": [
        {
          "output_type": "stream",
          "text": [
            "/usr/local/lib/python3.7/dist-packages/seaborn/_decorators.py:43: FutureWarning: Pass the following variables as keyword args: x, y. From version 0.12, the only valid positional argument will be `data`, and passing other arguments without an explicit keyword will result in an error or misinterpretation.\n",
            "  FutureWarning\n",
            "/usr/local/lib/python3.7/dist-packages/seaborn/_decorators.py:43: FutureWarning: Pass the following variables as keyword args: x, y. From version 0.12, the only valid positional argument will be `data`, and passing other arguments without an explicit keyword will result in an error or misinterpretation.\n",
            "  FutureWarning\n",
            "/usr/local/lib/python3.7/dist-packages/seaborn/_decorators.py:43: FutureWarning: Pass the following variables as keyword args: x, y. From version 0.12, the only valid positional argument will be `data`, and passing other arguments without an explicit keyword will result in an error or misinterpretation.\n",
            "  FutureWarning\n"
          ],
          "name": "stderr"
        },
        {
          "output_type": "execute_result",
          "data": {
            "text/plain": [
              "<matplotlib.axes._subplots.AxesSubplot at 0x7f48ff1d3d10>"
            ]
          },
          "metadata": {
            "tags": []
          },
          "execution_count": 28
        },
        {
          "output_type": "display_data",
          "data": {
            "image/png": "[encoded data removed]",
            "text/plain": [
              "<Figure size 432x288 with 1 Axes>"
            ]
          },
          "metadata": {
            "tags": [],
            "needs_background": "light"
          }
        }
      ]
    },
    {
      "cell_type": "code",
      "metadata": {
        "id": "9l9mtego7Ssv",
        "colab": {
          "base_uri": "https://localhost:8080/",
          "height": 412
        },
        "outputId": "33bae6bd-777a-4cc4-af25-53a6860b338b"
      },
      "source": [
        "sns.lineplot(original['Date'], original['ORTHOPEDIE'])\n",
        "sns.lineplot(df_forecast['Date'], df_forecast['orthopedie'])\n",
        "sns.lineplot(df_forecast['Date'], real['ORTHOPEDIE'], color='r')"
      ],
      "execution_count": 29,
      "outputs": [
        {
          "output_type": "stream",
          "text": [
            "/usr/local/lib/python3.7/dist-packages/seaborn/_decorators.py:43: FutureWarning: Pass the following variables as keyword args: x, y. From version 0.12, the only valid positional argument will be `data`, and passing other arguments without an explicit keyword will result in an error or misinterpretation.\n",
            "  FutureWarning\n",
            "/usr/local/lib/python3.7/dist-packages/seaborn/_decorators.py:43: FutureWarning: Pass the following variables as keyword args: x, y. From version 0.12, the only valid positional argument will be `data`, and passing other arguments without an explicit keyword will result in an error or misinterpretation.\n",
            "  FutureWarning\n",
            "/usr/local/lib/python3.7/dist-packages/seaborn/_decorators.py:43: FutureWarning: Pass the following variables as keyword args: x, y. From version 0.12, the only valid positional argument will be `data`, and passing other arguments without an explicit keyword will result in an error or misinterpretation.\n",
            "  FutureWarning\n"
          ],
          "name": "stderr"
        },
        {
          "output_type": "execute_result",
          "data": {
            "text/plain": [
              "<matplotlib.axes._subplots.AxesSubplot at 0x7f49077b8cd0>"
            ]
          },
          "metadata": {
            "tags": []
          },
          "execution_count": 29
        },
        {
          "output_type": "display_data",
          "data": {
            "image/png": "[encoded data removed]",
            "text/plain": [
              "<Figure size 432x288 with 1 Axes>"
            ]
          },
          "metadata": {
            "tags": [],
            "needs_background": "light"
          }
        }
      ]
    },
    {
      "cell_type": "code",
      "metadata": {
        "id": "DDr3MtOf8M_Y"
      },
      "source": [
        ""
      ],
      "execution_count": null,
      "outputs": []
    }
  ]
}